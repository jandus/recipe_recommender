{
 "cells": [
  {
   "cell_type": "markdown",
   "metadata": {},
   "source": [
    "# Recipe Recommender"
   ]
  },
  {
   "cell_type": "code",
   "execution_count": 1,
   "metadata": {},
   "outputs": [],
   "source": [
    "import numpy as np\n",
    "import pandas as pd\n",
    "\n",
    "import matplotlib.pyplot as plt\n",
    "import seaborn as sns"
   ]
  },
  {
   "cell_type": "code",
   "execution_count": 2,
   "metadata": {},
   "outputs": [],
   "source": [
    "raw_recipes = pd.read_csv('./data/RAW_recipes.csv')\n",
    "raw_interactions = pd.read_csv('./data/RAW_interactions.csv')"
   ]
  },
  {
   "cell_type": "code",
   "execution_count": 3,
   "metadata": {},
   "outputs": [],
   "source": [
    "# Parse the stringified features into their corresponding python objects\n",
    "from ast import literal_eval\n",
    "\n",
    "features = ['tags', 'steps', 'ingredients']\n",
    "for feature in features:\n",
    "    raw_recipes[feature] = raw_recipes[feature].apply(literal_eval)"
   ]
  },
  {
   "cell_type": "code",
   "execution_count": 4,
   "metadata": {},
   "outputs": [
    {
     "data": {
      "text/plain": [
       "Index(['name', 'id', 'minutes', 'contributor_id', 'submitted', 'tags',\n",
       "       'nutrition', 'n_steps', 'steps', 'description', 'ingredients',\n",
       "       'n_ingredients'],\n",
       "      dtype='object')"
      ]
     },
     "execution_count": 4,
     "metadata": {},
     "output_type": "execute_result"
    }
   ],
   "source": [
    "raw_recipes.columns"
   ]
  },
  {
   "cell_type": "code",
   "execution_count": 5,
   "metadata": {},
   "outputs": [
    {
     "data": {
      "text/plain": [
       "Index(['user_id', 'recipe_id', 'date', 'rating', 'review'], dtype='object')"
      ]
     },
     "execution_count": 5,
     "metadata": {},
     "output_type": "execute_result"
    }
   ],
   "source": [
    "raw_interactions.columns"
   ]
  },
  {
   "cell_type": "code",
   "execution_count": 6,
   "metadata": {},
   "outputs": [
    {
     "data": {
      "text/plain": [
       "user_id                                                  38094\n",
       "recipe_id                                                40893\n",
       "date                                                2003-02-17\n",
       "rating                                                       4\n",
       "review       Great with a salad. Cooked on top of stove for...\n",
       "Name: 0, dtype: object"
      ]
     },
     "execution_count": 6,
     "metadata": {},
     "output_type": "execute_result"
    }
   ],
   "source": [
    "raw_interactions.iloc[0]"
   ]
  },
  {
   "cell_type": "code",
   "execution_count": 7,
   "metadata": {},
   "outputs": [
    {
     "data": {
      "text/html": [
       "<div>\n",
       "<style scoped>\n",
       "    .dataframe tbody tr th:only-of-type {\n",
       "        vertical-align: middle;\n",
       "    }\n",
       "\n",
       "    .dataframe tbody tr th {\n",
       "        vertical-align: top;\n",
       "    }\n",
       "\n",
       "    .dataframe thead th {\n",
       "        text-align: right;\n",
       "    }\n",
       "</style>\n",
       "<table border=\"1\" class=\"dataframe\">\n",
       "  <thead>\n",
       "    <tr style=\"text-align: right;\">\n",
       "      <th></th>\n",
       "      <th>name</th>\n",
       "      <th>id</th>\n",
       "      <th>minutes</th>\n",
       "      <th>contributor_id</th>\n",
       "      <th>submitted</th>\n",
       "      <th>tags</th>\n",
       "      <th>nutrition</th>\n",
       "      <th>n_steps</th>\n",
       "      <th>steps</th>\n",
       "      <th>description</th>\n",
       "      <th>ingredients</th>\n",
       "      <th>n_ingredients</th>\n",
       "    </tr>\n",
       "  </thead>\n",
       "  <tbody>\n",
       "    <tr>\n",
       "      <th>24367</th>\n",
       "      <td>black bean  corn  and tomato salad</td>\n",
       "      <td>62</td>\n",
       "      <td>25</td>\n",
       "      <td>1570</td>\n",
       "      <td>1999-08-19</td>\n",
       "      <td>[30-minutes-or-less, time-to-make, course, mai...</td>\n",
       "      <td>[407.8, 23.0, 17.0, 0.0, 34.0, 11.0, 18.0]</td>\n",
       "      <td>4</td>\n",
       "      <td>[in a bowl whisk together lemon juice , oil , ...</td>\n",
       "      <td>this is easy, delicious, colorful, delicious, ...</td>\n",
       "      <td>[fresh lemon juice, olive oil, black beans, fr...</td>\n",
       "      <td>9</td>\n",
       "    </tr>\n",
       "  </tbody>\n",
       "</table>\n",
       "</div>"
      ],
      "text/plain": [
       "                                     name  id  minutes  contributor_id  \\\n",
       "24367  black bean  corn  and tomato salad  62       25            1570   \n",
       "\n",
       "        submitted                                               tags  \\\n",
       "24367  1999-08-19  [30-minutes-or-less, time-to-make, course, mai...   \n",
       "\n",
       "                                        nutrition  n_steps  \\\n",
       "24367  [407.8, 23.0, 17.0, 0.0, 34.0, 11.0, 18.0]        4   \n",
       "\n",
       "                                                   steps  \\\n",
       "24367  [in a bowl whisk together lemon juice , oil , ...   \n",
       "\n",
       "                                             description  \\\n",
       "24367  this is easy, delicious, colorful, delicious, ...   \n",
       "\n",
       "                                             ingredients  n_ingredients  \n",
       "24367  [fresh lemon juice, olive oil, black beans, fr...              9  "
      ]
     },
     "execution_count": 7,
     "metadata": {},
     "output_type": "execute_result"
    }
   ],
   "source": [
    "raw_recipes[raw_recipes.id == 62] #20080"
   ]
  },
  {
   "cell_type": "code",
   "execution_count": 8,
   "metadata": {},
   "outputs": [
    {
     "data": {
      "text/html": [
       "<div>\n",
       "<style scoped>\n",
       "    .dataframe tbody tr th:only-of-type {\n",
       "        vertical-align: middle;\n",
       "    }\n",
       "\n",
       "    .dataframe tbody tr th {\n",
       "        vertical-align: top;\n",
       "    }\n",
       "\n",
       "    .dataframe thead th {\n",
       "        text-align: right;\n",
       "    }\n",
       "</style>\n",
       "<table border=\"1\" class=\"dataframe\">\n",
       "  <thead>\n",
       "    <tr style=\"text-align: right;\">\n",
       "      <th></th>\n",
       "      <th>user_id</th>\n",
       "      <th>recipe_id</th>\n",
       "      <th>date</th>\n",
       "      <th>rating</th>\n",
       "      <th>review</th>\n",
       "    </tr>\n",
       "  </thead>\n",
       "  <tbody>\n",
       "  </tbody>\n",
       "</table>\n",
       "</div>"
      ],
      "text/plain": [
       "Empty DataFrame\n",
       "Columns: [user_id, recipe_id, date, rating, review]\n",
       "Index: []"
      ]
     },
     "execution_count": 8,
     "metadata": {},
     "output_type": "execute_result"
    }
   ],
   "source": [
    "raw_interactions[raw_interactions.recipe_id == 6389]"
   ]
  },
  {
   "cell_type": "code",
   "execution_count": 9,
   "metadata": {},
   "outputs": [
    {
     "ename": "AttributeError",
     "evalue": "'DataFrame' object has no attribute 'reid'",
     "output_type": "error",
     "traceback": [
      "\u001b[0;31m---------------------------------------------------------------------------\u001b[0m",
      "\u001b[0;31mAttributeError\u001b[0m                            Traceback (most recent call last)",
      "\u001b[0;32m<ipython-input-9-988dda1b662b>\u001b[0m in \u001b[0;36m<module>\u001b[0;34m\u001b[0m\n\u001b[0;32m----> 1\u001b[0;31m \u001b[0mraw_recipes\u001b[0m\u001b[0;34m[\u001b[0m\u001b[0mraw_recipes\u001b[0m\u001b[0;34m.\u001b[0m\u001b[0mreid\u001b[0m \u001b[0;34m==\u001b[0m \u001b[0;36m62\u001b[0m\u001b[0;34m]\u001b[0m\u001b[0;34m\u001b[0m\u001b[0;34m\u001b[0m\u001b[0m\n\u001b[0m",
      "\u001b[0;32m~/opt/anaconda3/lib/python3.8/site-packages/pandas/core/generic.py\u001b[0m in \u001b[0;36m__getattr__\u001b[0;34m(self, name)\u001b[0m\n\u001b[1;32m   5476\u001b[0m         ):\n\u001b[1;32m   5477\u001b[0m             \u001b[0;32mreturn\u001b[0m \u001b[0mself\u001b[0m\u001b[0;34m[\u001b[0m\u001b[0mname\u001b[0m\u001b[0;34m]\u001b[0m\u001b[0;34m\u001b[0m\u001b[0;34m\u001b[0m\u001b[0m\n\u001b[0;32m-> 5478\u001b[0;31m         \u001b[0;32mreturn\u001b[0m \u001b[0mobject\u001b[0m\u001b[0;34m.\u001b[0m\u001b[0m__getattribute__\u001b[0m\u001b[0;34m(\u001b[0m\u001b[0mself\u001b[0m\u001b[0;34m,\u001b[0m \u001b[0mname\u001b[0m\u001b[0;34m)\u001b[0m\u001b[0;34m\u001b[0m\u001b[0;34m\u001b[0m\u001b[0m\n\u001b[0m\u001b[1;32m   5479\u001b[0m \u001b[0;34m\u001b[0m\u001b[0m\n\u001b[1;32m   5480\u001b[0m     \u001b[0;32mdef\u001b[0m \u001b[0m__setattr__\u001b[0m\u001b[0;34m(\u001b[0m\u001b[0mself\u001b[0m\u001b[0;34m,\u001b[0m \u001b[0mname\u001b[0m\u001b[0;34m:\u001b[0m \u001b[0mstr\u001b[0m\u001b[0;34m,\u001b[0m \u001b[0mvalue\u001b[0m\u001b[0;34m)\u001b[0m \u001b[0;34m->\u001b[0m \u001b[0;32mNone\u001b[0m\u001b[0;34m:\u001b[0m\u001b[0;34m\u001b[0m\u001b[0;34m\u001b[0m\u001b[0m\n",
      "\u001b[0;31mAttributeError\u001b[0m: 'DataFrame' object has no attribute 'reid'"
     ]
    }
   ],
   "source": [
    "raw_recipes[raw_recipes.reid == 62]"
   ]
  },
  {
   "cell_type": "code",
   "execution_count": null,
   "metadata": {},
   "outputs": [],
   "source": [
    "raw_recipes.dtypes"
   ]
  },
  {
   "cell_type": "code",
   "execution_count": null,
   "metadata": {},
   "outputs": [],
   "source": [
    "raw_recipes.head()"
   ]
  },
  {
   "cell_type": "code",
   "execution_count": 12,
   "metadata": {},
   "outputs": [
    {
     "data": {
      "text/plain": [
       "(231637, 12)"
      ]
     },
     "execution_count": 12,
     "metadata": {},
     "output_type": "execute_result"
    }
   ],
   "source": [
    "raw_recipes.shape"
   ]
  },
  {
   "cell_type": "code",
   "execution_count": 1,
   "metadata": {},
   "outputs": [
    {
     "ename": "NameError",
     "evalue": "name 'raw_interactions' is not defined",
     "output_type": "error",
     "traceback": [
      "\u001b[0;31m---------------------------------------------------------------------------\u001b[0m",
      "\u001b[0;31mNameError\u001b[0m                                 Traceback (most recent call last)",
      "\u001b[0;32m<ipython-input-1-7e32bbf1432e>\u001b[0m in \u001b[0;36m<module>\u001b[0;34m\u001b[0m\n\u001b[0;32m----> 1\u001b[0;31m \u001b[0mraw_interactions\u001b[0m\u001b[0;34m.\u001b[0m\u001b[0mhead\u001b[0m\u001b[0;34m(\u001b[0m\u001b[0;34m)\u001b[0m\u001b[0;34m\u001b[0m\u001b[0;34m\u001b[0m\u001b[0m\n\u001b[0m",
      "\u001b[0;31mNameError\u001b[0m: name 'raw_interactions' is not defined"
     ]
    }
   ],
   "source": [
    "raw_interactions.head()"
   ]
  },
  {
   "cell_type": "code",
   "execution_count": 14,
   "metadata": {},
   "outputs": [
    {
     "data": {
      "text/plain": [
       "(1132367, 5)"
      ]
     },
     "execution_count": 14,
     "metadata": {},
     "output_type": "execute_result"
    }
   ],
   "source": [
    "raw_interactions.shape"
   ]
  },
  {
   "cell_type": "markdown",
   "metadata": {},
   "source": [
    "Creating a TF-IDF Vectorizer\n",
    "\n",
    "Calculating Cosine Similarity\n",
    "\n",
    "Making a recommendation"
   ]
  },
  {
   "cell_type": "code",
   "execution_count": 15,
   "metadata": {},
   "outputs": [],
   "source": [
    "#raw_interactions[raw_nteractions]\n",
    "# raw_interactions[[\"recipe_id\", \"rating\"]].groupby(\"recipe_id\").agg({\"rating\": ['mean', \"count\"]})\n",
    "recipe_ratings_cnt = raw_interactions[[\"recipe_id\", \"rating\"]].groupby(\"recipe_id\").count().sort_values('rating', ascending=False).reset_index()\n",
    "recipe_ratings_cnt.columns = [\"id\", \"rating_count\"]\n"
   ]
  },
  {
   "cell_type": "code",
   "execution_count": 16,
   "metadata": {},
   "outputs": [
    {
     "data": {
      "text/plain": [
       "(231637, 2)"
      ]
     },
     "execution_count": 16,
     "metadata": {},
     "output_type": "execute_result"
    }
   ],
   "source": [
    "recipe_ratings_cnt.shape"
   ]
  },
  {
   "cell_type": "code",
   "execution_count": 17,
   "metadata": {},
   "outputs": [],
   "source": [
    "# get recipes with more than 20 ratings\n",
    "filter = recipe_ratings_cnt['rating_count'] > 20\n",
    "recipe_ratings_cnt = recipe_ratings_cnt[filter]"
   ]
  },
  {
   "cell_type": "code",
   "execution_count": 18,
   "metadata": {},
   "outputs": [
    {
     "data": {
      "text/plain": [
       "(7478, 2)"
      ]
     },
     "execution_count": 18,
     "metadata": {},
     "output_type": "execute_result"
    }
   ],
   "source": [
    "recipe_ratings_cnt.shape"
   ]
  },
  {
   "cell_type": "code",
   "execution_count": 19,
   "metadata": {},
   "outputs": [],
   "source": [
    "# Get recipes that have ratings of 4 or more\n",
    "recipe_ratings_mean = raw_interactions[raw_interactions[\"recipe_id\"].isin(recipe_ratings_cnt[\"id\"])] \\\n",
    "                [[\"recipe_id\", \"rating\"]].groupby(\"recipe_id\").mean().sort_values('rating', ascending=False).reset_index()\n",
    "recipe_ratings_mean.columns = [\"id\", \"rating_mean\"]"
   ]
  },
  {
   "cell_type": "code",
   "execution_count": 20,
   "metadata": {},
   "outputs": [
    {
     "data": {
      "text/plain": [
       "(7478, 2)"
      ]
     },
     "execution_count": 20,
     "metadata": {},
     "output_type": "execute_result"
    }
   ],
   "source": [
    "recipe_ratings_mean.shape"
   ]
  },
  {
   "cell_type": "code",
   "execution_count": 21,
   "metadata": {},
   "outputs": [
    {
     "data": {
      "text/html": [
       "<div>\n",
       "<style scoped>\n",
       "    .dataframe tbody tr th:only-of-type {\n",
       "        vertical-align: middle;\n",
       "    }\n",
       "\n",
       "    .dataframe tbody tr th {\n",
       "        vertical-align: top;\n",
       "    }\n",
       "\n",
       "    .dataframe thead th {\n",
       "        text-align: right;\n",
       "    }\n",
       "</style>\n",
       "<table border=\"1\" class=\"dataframe\">\n",
       "  <thead>\n",
       "    <tr style=\"text-align: right;\">\n",
       "      <th></th>\n",
       "      <th>id</th>\n",
       "      <th>rating_mean</th>\n",
       "    </tr>\n",
       "  </thead>\n",
       "  <tbody>\n",
       "    <tr>\n",
       "      <th>0</th>\n",
       "      <td>20080</td>\n",
       "      <td>5.0</td>\n",
       "    </tr>\n",
       "    <tr>\n",
       "      <th>1</th>\n",
       "      <td>278655</td>\n",
       "      <td>5.0</td>\n",
       "    </tr>\n",
       "    <tr>\n",
       "      <th>2</th>\n",
       "      <td>378378</td>\n",
       "      <td>5.0</td>\n",
       "    </tr>\n",
       "    <tr>\n",
       "      <th>3</th>\n",
       "      <td>29619</td>\n",
       "      <td>5.0</td>\n",
       "    </tr>\n",
       "    <tr>\n",
       "      <th>4</th>\n",
       "      <td>146558</td>\n",
       "      <td>5.0</td>\n",
       "    </tr>\n",
       "  </tbody>\n",
       "</table>\n",
       "</div>"
      ],
      "text/plain": [
       "       id  rating_mean\n",
       "0   20080          5.0\n",
       "1  278655          5.0\n",
       "2  378378          5.0\n",
       "3   29619          5.0\n",
       "4  146558          5.0"
      ]
     },
     "execution_count": 21,
     "metadata": {},
     "output_type": "execute_result"
    }
   ],
   "source": [
    "recipe_ratings_mean.head()"
   ]
  },
  {
   "cell_type": "code",
   "execution_count": 22,
   "metadata": {},
   "outputs": [],
   "source": [
    "# get recipes with more than 20 ratings\n",
    "filter = recipe_ratings_mean['rating_mean'] >= 4\n",
    "recipe_ratings_mean = recipe_ratings_mean[filter]"
   ]
  },
  {
   "cell_type": "code",
   "execution_count": 23,
   "metadata": {},
   "outputs": [
    {
     "name": "stderr",
     "output_type": "stream",
     "text": [
      "/Users/jandas/opt/anaconda3/lib/python3.8/site-packages/seaborn/distributions.py:2551: FutureWarning: `distplot` is a deprecated function and will be removed in a future version. Please adapt your code to use either `displot` (a figure-level function with similar flexibility) or `histplot` (an axes-level function for histograms).\n",
      "  warnings.warn(msg, FutureWarning)\n"
     ]
    },
    {
     "data": {
      "text/plain": [
       "<AxesSubplot:xlabel='rating_mean', ylabel='Density'>"
      ]
     },
     "execution_count": 23,
     "metadata": {},
     "output_type": "execute_result"
    },
    {
     "data": {
      "image/png": "[encoded data removed]",
      "text/plain": [
       "<Figure size 432x288 with 1 Axes>"
      ]
     },
     "metadata": {
      "needs_background": "light"
     },
     "output_type": "display_data"
    }
   ],
   "source": [
    "\n",
    "sns.distplot(recipe_ratings_mean['rating_mean'])"
   ]
  },
  {
   "cell_type": "code",
   "execution_count": 24,
   "metadata": {},
   "outputs": [
    {
     "data": {
      "text/plain": [
       "count    6699.000000\n",
       "mean        4.525680\n",
       "std         0.235046\n",
       "min         4.000000\n",
       "25%         4.357143\n",
       "50%         4.543974\n",
       "75%         4.701941\n",
       "max         5.000000\n",
       "Name: rating_mean, dtype: float64"
      ]
     },
     "execution_count": 24,
     "metadata": {},
     "output_type": "execute_result"
    }
   ],
   "source": [
    "recipe_ratings_mean['rating_mean'].describe()"
   ]
  },
  {
   "cell_type": "code",
   "execution_count": 25,
   "metadata": {},
   "outputs": [
    {
     "data": {
      "text/html": [
       "<div>\n",
       "<style scoped>\n",
       "    .dataframe tbody tr th:only-of-type {\n",
       "        vertical-align: middle;\n",
       "    }\n",
       "\n",
       "    .dataframe tbody tr th {\n",
       "        vertical-align: top;\n",
       "    }\n",
       "\n",
       "    .dataframe thead th {\n",
       "        text-align: right;\n",
       "    }\n",
       "</style>\n",
       "<table border=\"1\" class=\"dataframe\">\n",
       "  <thead>\n",
       "    <tr style=\"text-align: right;\">\n",
       "      <th></th>\n",
       "      <th>id</th>\n",
       "      <th>rating_mean</th>\n",
       "    </tr>\n",
       "  </thead>\n",
       "  <tbody>\n",
       "    <tr>\n",
       "      <th>0</th>\n",
       "      <td>20080</td>\n",
       "      <td>5.0</td>\n",
       "    </tr>\n",
       "    <tr>\n",
       "      <th>1</th>\n",
       "      <td>278655</td>\n",
       "      <td>5.0</td>\n",
       "    </tr>\n",
       "    <tr>\n",
       "      <th>2</th>\n",
       "      <td>378378</td>\n",
       "      <td>5.0</td>\n",
       "    </tr>\n",
       "    <tr>\n",
       "      <th>3</th>\n",
       "      <td>29619</td>\n",
       "      <td>5.0</td>\n",
       "    </tr>\n",
       "    <tr>\n",
       "      <th>4</th>\n",
       "      <td>146558</td>\n",
       "      <td>5.0</td>\n",
       "    </tr>\n",
       "  </tbody>\n",
       "</table>\n",
       "</div>"
      ],
      "text/plain": [
       "       id  rating_mean\n",
       "0   20080          5.0\n",
       "1  278655          5.0\n",
       "2  378378          5.0\n",
       "3   29619          5.0\n",
       "4  146558          5.0"
      ]
     },
     "execution_count": 25,
     "metadata": {},
     "output_type": "execute_result"
    }
   ],
   "source": [
    "recipe_ratings_mean.head()"
   ]
  },
  {
   "cell_type": "code",
   "execution_count": 26,
   "metadata": {},
   "outputs": [],
   "source": [
    "# subset of recipes based on filters\n",
    "recipes = raw_recipes[raw_recipes[\"id\"].isin(recipe_ratings_mean[\"id\"])]"
   ]
  },
  {
   "cell_type": "code",
   "execution_count": 27,
   "metadata": {},
   "outputs": [],
   "source": [
    "# subset of interactions based on filters\n",
    "interactions = raw_interactions[raw_interactions[\"recipe_id\"].isin(recipe_ratings_mean[\"id\"])]"
   ]
  },
  {
   "cell_type": "code",
   "execution_count": 28,
   "metadata": {},
   "outputs": [],
   "source": [
    "recipes = recipes.reset_index(drop=True)"
   ]
  },
  {
   "cell_type": "code",
   "execution_count": 29,
   "metadata": {},
   "outputs": [
    {
     "data": {
      "text/plain": [
       "['egg roll wrap', 'whole green chilies', 'cheese', 'cornstarch', 'oil']"
      ]
     },
     "execution_count": 29,
     "metadata": {},
     "output_type": "execute_result"
    }
   ],
   "source": [
    "# Recipes data set\n",
    "recipes['ingredients'][0]"
   ]
  },
  {
   "cell_type": "code",
   "execution_count": 30,
   "metadata": {},
   "outputs": [],
   "source": [
    "interactions = interactions.reset_index(drop=True)"
   ]
  },
  {
   "cell_type": "code",
   "execution_count": 31,
   "metadata": {},
   "outputs": [
    {
     "data": {
      "text/html": [
       "<div>\n",
       "<style scoped>\n",
       "    .dataframe tbody tr th:only-of-type {\n",
       "        vertical-align: middle;\n",
       "    }\n",
       "\n",
       "    .dataframe tbody tr th {\n",
       "        vertical-align: top;\n",
       "    }\n",
       "\n",
       "    .dataframe thead th {\n",
       "        text-align: right;\n",
       "    }\n",
       "</style>\n",
       "<table border=\"1\" class=\"dataframe\">\n",
       "  <thead>\n",
       "    <tr style=\"text-align: right;\">\n",
       "      <th></th>\n",
       "      <th>user_id</th>\n",
       "      <th>recipe_id</th>\n",
       "      <th>date</th>\n",
       "      <th>rating</th>\n",
       "      <th>review</th>\n",
       "    </tr>\n",
       "  </thead>\n",
       "  <tbody>\n",
       "    <tr>\n",
       "      <th>0</th>\n",
       "      <td>1110776</td>\n",
       "      <td>78274</td>\n",
       "      <td>2014-05-15</td>\n",
       "      <td>5</td>\n",
       "      <td>Love it!</td>\n",
       "    </tr>\n",
       "    <tr>\n",
       "      <th>1</th>\n",
       "      <td>1668373</td>\n",
       "      <td>207860</td>\n",
       "      <td>2010-09-26</td>\n",
       "      <td>5</td>\n",
       "      <td>very easy to make, and much tastier than store...</td>\n",
       "    </tr>\n",
       "    <tr>\n",
       "      <th>2</th>\n",
       "      <td>28649</td>\n",
       "      <td>33096</td>\n",
       "      <td>2002-07-29</td>\n",
       "      <td>5</td>\n",
       "      <td>This was very simple and very refreshing.  Thi...</td>\n",
       "    </tr>\n",
       "    <tr>\n",
       "      <th>3</th>\n",
       "      <td>30298</td>\n",
       "      <td>33096</td>\n",
       "      <td>2002-07-30</td>\n",
       "      <td>4</td>\n",
       "      <td>Light and refreshing!  I used a reduced fat gr...</td>\n",
       "    </tr>\n",
       "    <tr>\n",
       "      <th>4</th>\n",
       "      <td>87300</td>\n",
       "      <td>33096</td>\n",
       "      <td>2003-06-22</td>\n",
       "      <td>5</td>\n",
       "      <td>This is such a perfect summer dessert, and SO ...</td>\n",
       "    </tr>\n",
       "  </tbody>\n",
       "</table>\n",
       "</div>"
      ],
      "text/plain": [
       "   user_id  recipe_id        date  rating  \\\n",
       "0  1110776      78274  2014-05-15       5   \n",
       "1  1668373     207860  2010-09-26       5   \n",
       "2    28649      33096  2002-07-29       5   \n",
       "3    30298      33096  2002-07-30       4   \n",
       "4    87300      33096  2003-06-22       5   \n",
       "\n",
       "                                              review  \n",
       "0                                           Love it!  \n",
       "1  very easy to make, and much tastier than store...  \n",
       "2  This was very simple and very refreshing.  Thi...  \n",
       "3  Light and refreshing!  I used a reduced fat gr...  \n",
       "4  This is such a perfect summer dessert, and SO ...  "
      ]
     },
     "execution_count": 31,
     "metadata": {},
     "output_type": "execute_result"
    }
   ],
   "source": [
    "interactions.head()"
   ]
  },
  {
   "cell_type": "code",
   "execution_count": 32,
   "metadata": {},
   "outputs": [
    {
     "data": {
      "text/plain": [
       "(382260, 5)"
      ]
     },
     "execution_count": 32,
     "metadata": {},
     "output_type": "execute_result"
    }
   ],
   "source": [
    "# Interactions data set\n",
    "interactions.shape"
   ]
  },
  {
   "cell_type": "code",
   "execution_count": 33,
   "metadata": {},
   "outputs": [],
   "source": [
    "# group reviews by\n",
    "interactions_group_review = []\n",
    "for (recipe_id, group) in interactions[[\"recipe_id\", \"review\"]].groupby(\"recipe_id\"):\n",
    "    #reviews_tmp = []\n",
    "    reviews_tmp = [review for review in group['review']]\n",
    "    #for review in group[\"review\"]:\n",
    "    #    reviews_tmp.append(review)\n",
    "    interactions_group_review.append([recipe_id, reviews_tmp])"
   ]
  },
  {
   "cell_type": "code",
   "execution_count": 34,
   "metadata": {},
   "outputs": [
    {
     "data": {
      "text/plain": [
       "6699"
      ]
     },
     "execution_count": 34,
     "metadata": {},
     "output_type": "execute_result"
    }
   ],
   "source": [
    "len(interactions_group_review)"
   ]
  },
  {
   "cell_type": "code",
   "execution_count": 35,
   "metadata": {},
   "outputs": [],
   "source": [
    "new_interactions = pd.DataFrame(interactions_group_review, columns=[\"id\", \"review\"])"
   ]
  },
  {
   "cell_type": "code",
   "execution_count": 36,
   "metadata": {},
   "outputs": [
    {
     "data": {
      "text/plain": [
       "(6699, 2)"
      ]
     },
     "execution_count": 36,
     "metadata": {},
     "output_type": "execute_result"
    }
   ],
   "source": [
    "new_interactions.shape"
   ]
  },
  {
   "cell_type": "code",
   "execution_count": 42,
   "metadata": {},
   "outputs": [
    {
     "data": {
      "text/plain": [
       "(6699, 12)"
      ]
     },
     "execution_count": 42,
     "metadata": {},
     "output_type": "execute_result"
    }
   ],
   "source": [
    "recipes.shape"
   ]
  },
  {
   "cell_type": "code",
   "execution_count": 43,
   "metadata": {},
   "outputs": [],
   "source": [
    "recipes = pd.merge(recipes, new_interactions, how=\"left\", on=\"id\")"
   ]
  },
  {
   "cell_type": "code",
   "execution_count": 44,
   "metadata": {},
   "outputs": [
    {
     "data": {
      "text/plain": [
       "(6699, 13)"
      ]
     },
     "execution_count": 44,
     "metadata": {},
     "output_type": "execute_result"
    }
   ],
   "source": [
    "recipes.shape"
   ]
  },
  {
   "cell_type": "code",
   "execution_count": 45,
   "metadata": {},
   "outputs": [
    {
     "data": {
      "text/html": [
       "<div>\n",
       "<style scoped>\n",
       "    .dataframe tbody tr th:only-of-type {\n",
       "        vertical-align: middle;\n",
       "    }\n",
       "\n",
       "    .dataframe tbody tr th {\n",
       "        vertical-align: top;\n",
       "    }\n",
       "\n",
       "    .dataframe thead th {\n",
       "        text-align: right;\n",
       "    }\n",
       "</style>\n",
       "<table border=\"1\" class=\"dataframe\">\n",
       "  <thead>\n",
       "    <tr style=\"text-align: right;\">\n",
       "      <th></th>\n",
       "      <th>name</th>\n",
       "      <th>id</th>\n",
       "      <th>minutes</th>\n",
       "      <th>contributor_id</th>\n",
       "      <th>submitted</th>\n",
       "      <th>tags</th>\n",
       "      <th>nutrition</th>\n",
       "      <th>n_steps</th>\n",
       "      <th>steps</th>\n",
       "      <th>description</th>\n",
       "      <th>ingredients</th>\n",
       "      <th>n_ingredients</th>\n",
       "      <th>review</th>\n",
       "    </tr>\n",
       "  </thead>\n",
       "  <tbody>\n",
       "    <tr>\n",
       "      <th>784</th>\n",
       "      <td>black bean  corn  and tomato salad</td>\n",
       "      <td>62</td>\n",
       "      <td>25</td>\n",
       "      <td>1570</td>\n",
       "      <td>1999-08-19</td>\n",
       "      <td>[30-minutes-or-less, time-to-make, course, mai...</td>\n",
       "      <td>[407.8, 23.0, 17.0, 0.0, 34.0, 11.0, 18.0]</td>\n",
       "      <td>4</td>\n",
       "      <td>[in a bowl whisk together lemon juice , oil , ...</td>\n",
       "      <td>this is easy, delicious, colorful, delicious, ...</td>\n",
       "      <td>[fresh lemon juice, olive oil, black beans, fr...</td>\n",
       "      <td>9</td>\n",
       "      <td>[This recipe was awesome! I took it to a famil...</td>\n",
       "    </tr>\n",
       "  </tbody>\n",
       "</table>\n",
       "</div>"
      ],
      "text/plain": [
       "                                   name  id  minutes  contributor_id  \\\n",
       "784  black bean  corn  and tomato salad  62       25            1570   \n",
       "\n",
       "      submitted                                               tags  \\\n",
       "784  1999-08-19  [30-minutes-or-less, time-to-make, course, mai...   \n",
       "\n",
       "                                      nutrition  n_steps  \\\n",
       "784  [407.8, 23.0, 17.0, 0.0, 34.0, 11.0, 18.0]        4   \n",
       "\n",
       "                                                 steps  \\\n",
       "784  [in a bowl whisk together lemon juice , oil , ...   \n",
       "\n",
       "                                           description  \\\n",
       "784  this is easy, delicious, colorful, delicious, ...   \n",
       "\n",
       "                                           ingredients  n_ingredients  \\\n",
       "784  [fresh lemon juice, olive oil, black beans, fr...              9   \n",
       "\n",
       "                                                review  \n",
       "784  [This recipe was awesome! I took it to a famil...  "
      ]
     },
     "execution_count": 45,
     "metadata": {},
     "output_type": "execute_result"
    }
   ],
   "source": [
    "recipes.loc[recipes[\"id\"]==62]"
   ]
  },
  {
   "cell_type": "markdown",
   "metadata": {},
   "source": [
    "#### Recommender system"
   ]
  },
  {
   "cell_type": "code",
   "execution_count": 100,
   "metadata": {},
   "outputs": [],
   "source": [
    "recommend_recipes = recipes.copy()"
   ]
  },
  {
   "cell_type": "code",
   "execution_count": 101,
   "metadata": {},
   "outputs": [
    {
     "data": {
      "text/html": [
       "<div>\n",
       "<style scoped>\n",
       "    .dataframe tbody tr th:only-of-type {\n",
       "        vertical-align: middle;\n",
       "    }\n",
       "\n",
       "    .dataframe tbody tr th {\n",
       "        vertical-align: top;\n",
       "    }\n",
       "\n",
       "    .dataframe thead th {\n",
       "        text-align: right;\n",
       "    }\n",
       "</style>\n",
       "<table border=\"1\" class=\"dataframe\">\n",
       "  <thead>\n",
       "    <tr style=\"text-align: right;\">\n",
       "      <th></th>\n",
       "      <th>name</th>\n",
       "      <th>id</th>\n",
       "      <th>minutes</th>\n",
       "      <th>contributor_id</th>\n",
       "      <th>submitted</th>\n",
       "      <th>tags</th>\n",
       "      <th>nutrition</th>\n",
       "      <th>n_steps</th>\n",
       "      <th>steps</th>\n",
       "      <th>description</th>\n",
       "      <th>ingredients</th>\n",
       "      <th>n_ingredients</th>\n",
       "      <th>review</th>\n",
       "    </tr>\n",
       "  </thead>\n",
       "  <tbody>\n",
       "    <tr>\n",
       "      <th>0</th>\n",
       "      <td>chile rellenos</td>\n",
       "      <td>43026</td>\n",
       "      <td>45</td>\n",
       "      <td>52268</td>\n",
       "      <td>2002-10-14</td>\n",
       "      <td>[60-minutes-or-less, time-to-make, course, mai...</td>\n",
       "      <td>[94.0, 10.0, 0.0, 11.0, 11.0, 21.0, 0.0]</td>\n",
       "      <td>9</td>\n",
       "      <td>[drain green chiles, sprinkle cornstarch on sh...</td>\n",
       "      <td>a favorite from a local restaurant no longer i...</td>\n",
       "      <td>[egg roll wrap, whole green chilies, cheese, c...</td>\n",
       "      <td>5</td>\n",
       "      <td>[Grandma Pam,\\r\\n  Oh my goodness,these were s...</td>\n",
       "    </tr>\n",
       "    <tr>\n",
       "      <th>1</th>\n",
       "      <td>how i got my family to eat spinach  spinach ca...</td>\n",
       "      <td>25775</td>\n",
       "      <td>50</td>\n",
       "      <td>37305</td>\n",
       "      <td>2002-04-22</td>\n",
       "      <td>[60-minutes-or-less, time-to-make, course, mai...</td>\n",
       "      <td>[166.1, 16.0, 6.0, 32.0, 19.0, 26.0, 3.0]</td>\n",
       "      <td>5</td>\n",
       "      <td>[preheat oven to 350 degrees, place spinach in...</td>\n",
       "      <td>if spinach scares you, this is one recipe that...</td>\n",
       "      <td>[frozen chopped spinach, egg, salt, black pepp...</td>\n",
       "      <td>8</td>\n",
       "      <td>[The recipe was good but too salty.  I agree w...</td>\n",
       "    </tr>\n",
       "    <tr>\n",
       "      <th>2</th>\n",
       "      <td>immoral  sandwich filling  loose meat</td>\n",
       "      <td>58224</td>\n",
       "      <td>35</td>\n",
       "      <td>37183</td>\n",
       "      <td>2003-04-04</td>\n",
       "      <td>[60-minutes-or-less, time-to-make, course, mai...</td>\n",
       "      <td>[223.2, 22.0, 4.0, 7.0, 35.0, 30.0, 0.0]</td>\n",
       "      <td>6</td>\n",
       "      <td>[brown the meat &amp; drain fat, stir in sugar , m...</td>\n",
       "      <td>just the thing for a day when you're wanton so...</td>\n",
       "      <td>[ground beef, sugar, prepared yellow mustard, ...</td>\n",
       "      <td>8</td>\n",
       "      <td>[These are so good!! My family devoured them -...</td>\n",
       "    </tr>\n",
       "    <tr>\n",
       "      <th>3</th>\n",
       "      <td>land of nod  cinnamon buns</td>\n",
       "      <td>22526</td>\n",
       "      <td>35</td>\n",
       "      <td>29212</td>\n",
       "      <td>2002-03-14</td>\n",
       "      <td>[60-minutes-or-less, time-to-make, course, pre...</td>\n",
       "      <td>[575.3, 18.0, 116.0, 34.0, 28.0, 22.0, 34.0]</td>\n",
       "      <td>7</td>\n",
       "      <td>[before you turn in for the night , grease a 1...</td>\n",
       "      <td>i have made this several times and it's dead e...</td>\n",
       "      <td>[rolls, brown sugar, instant vanilla pudding, ...</td>\n",
       "      <td>6</td>\n",
       "      <td>[I made these a while back for a fellowship me...</td>\n",
       "    </tr>\n",
       "    <tr>\n",
       "      <th>4</th>\n",
       "      <td>never weep  whipped cream</td>\n",
       "      <td>74805</td>\n",
       "      <td>5</td>\n",
       "      <td>87877</td>\n",
       "      <td>2003-11-01</td>\n",
       "      <td>[15-minutes-or-less, time-to-make, course, mai...</td>\n",
       "      <td>[276.3, 45.0, 2.0, 1.0, 3.0, 91.0, 0.0]</td>\n",
       "      <td>4</td>\n",
       "      <td>[whip all ingredients together until firm peak...</td>\n",
       "      <td>i don't know where i got this, but it works. t...</td>\n",
       "      <td>[whipping cream, vanilla instant pudding mix, ...</td>\n",
       "      <td>4</td>\n",
       "      <td>[I don't know why this works, but it sure does...</td>\n",
       "    </tr>\n",
       "  </tbody>\n",
       "</table>\n",
       "</div>"
      ],
      "text/plain": [
       "                                                name     id  minutes  \\\n",
       "0                                     chile rellenos  43026       45   \n",
       "1  how i got my family to eat spinach  spinach ca...  25775       50   \n",
       "2              immoral  sandwich filling  loose meat  58224       35   \n",
       "3                         land of nod  cinnamon buns  22526       35   \n",
       "4                          never weep  whipped cream  74805        5   \n",
       "\n",
       "   contributor_id   submitted  \\\n",
       "0           52268  2002-10-14   \n",
       "1           37305  2002-04-22   \n",
       "2           37183  2003-04-04   \n",
       "3           29212  2002-03-14   \n",
       "4           87877  2003-11-01   \n",
       "\n",
       "                                                tags  \\\n",
       "0  [60-minutes-or-less, time-to-make, course, mai...   \n",
       "1  [60-minutes-or-less, time-to-make, course, mai...   \n",
       "2  [60-minutes-or-less, time-to-make, course, mai...   \n",
       "3  [60-minutes-or-less, time-to-make, course, pre...   \n",
       "4  [15-minutes-or-less, time-to-make, course, mai...   \n",
       "\n",
       "                                      nutrition  n_steps  \\\n",
       "0      [94.0, 10.0, 0.0, 11.0, 11.0, 21.0, 0.0]        9   \n",
       "1     [166.1, 16.0, 6.0, 32.0, 19.0, 26.0, 3.0]        5   \n",
       "2      [223.2, 22.0, 4.0, 7.0, 35.0, 30.0, 0.0]        6   \n",
       "3  [575.3, 18.0, 116.0, 34.0, 28.0, 22.0, 34.0]        7   \n",
       "4       [276.3, 45.0, 2.0, 1.0, 3.0, 91.0, 0.0]        4   \n",
       "\n",
       "                                               steps  \\\n",
       "0  [drain green chiles, sprinkle cornstarch on sh...   \n",
       "1  [preheat oven to 350 degrees, place spinach in...   \n",
       "2  [brown the meat & drain fat, stir in sugar , m...   \n",
       "3  [before you turn in for the night , grease a 1...   \n",
       "4  [whip all ingredients together until firm peak...   \n",
       "\n",
       "                                         description  \\\n",
       "0  a favorite from a local restaurant no longer i...   \n",
       "1  if spinach scares you, this is one recipe that...   \n",
       "2  just the thing for a day when you're wanton so...   \n",
       "3  i have made this several times and it's dead e...   \n",
       "4  i don't know where i got this, but it works. t...   \n",
       "\n",
       "                                         ingredients  n_ingredients  \\\n",
       "0  [egg roll wrap, whole green chilies, cheese, c...              5   \n",
       "1  [frozen chopped spinach, egg, salt, black pepp...              8   \n",
       "2  [ground beef, sugar, prepared yellow mustard, ...              8   \n",
       "3  [rolls, brown sugar, instant vanilla pudding, ...              6   \n",
       "4  [whipping cream, vanilla instant pudding mix, ...              4   \n",
       "\n",
       "                                              review  \n",
       "0  [Grandma Pam,\\r\\n  Oh my goodness,these were s...  \n",
       "1  [The recipe was good but too salty.  I agree w...  \n",
       "2  [These are so good!! My family devoured them -...  \n",
       "3  [I made these a while back for a fellowship me...  \n",
       "4  [I don't know why this works, but it sure does...  "
      ]
     },
     "execution_count": 101,
     "metadata": {},
     "output_type": "execute_result"
    }
   ],
   "source": [
    "recommend_recipes.head(5)"
   ]
  },
  {
   "cell_type": "markdown",
   "metadata": {},
   "source": [
    "##### Clean data and feature engineering"
   ]
  },
  {
   "cell_type": "code",
   "execution_count": 48,
   "metadata": {},
   "outputs": [],
   "source": [
    "# Function to convert all strings to lower case and strip names of spaces\n",
    "def clean_data(x):\n",
    "    if isinstance(x, list):\n",
    "        return [str.lower(i) for i in x]\n",
    "    else:\n",
    "        #Check if director exists. If not, return empty string\n",
    "        if isinstance(x, str):\n",
    "            return str.lower(x)\n",
    "        else:\n",
    "            return ''\n",
    "        \n",
    "# create a column with all words needed for the recommender \n",
    "def create_soup(x):\n",
    "    return ' '.join(x['ingredients']) + ' ' + ' '.join(x['tags']) + ' '  + x['description']\n",
    "\n",
    "# Add two new features ingredients_string and tags_strings - These will be used for the recommendations.\n",
    "def create_string_feature(x):\n",
    "    return ' '.join(x)"
   ]
  },
  {
   "cell_type": "markdown",
   "metadata": {},
   "source": [
    "#### Search for ingredients in recipes"
   ]
  },
  {
   "cell_type": "code",
   "execution_count": 266,
   "metadata": {},
   "outputs": [],
   "source": [
    "pd.set_option('max_colwidth', 40)\n",
    "query_1= \"banana\"\n",
    "query_2= \"\"\n",
    "query_3= \"\""
   ]
  },
  {
   "cell_type": "code",
   "execution_count": 267,
   "metadata": {},
   "outputs": [],
   "source": [
    "# Search for ingredients\n",
    "reg_string= f\"(?=.*{query_1})(?=.*{query_2})(?=.*{query_3})\"\n",
    "mask = np.column_stack([recommend_recipes['ingredients_string'].str.contains(reg_string, na=False)])\n",
    "new_search = recommend_recipes[mask]"
   ]
  },
  {
   "cell_type": "code",
   "execution_count": 268,
   "metadata": {},
   "outputs": [
    {
     "data": {
      "text/html": [
       "<div>\n",
       "<style scoped>\n",
       "    .dataframe tbody tr th:only-of-type {\n",
       "        vertical-align: middle;\n",
       "    }\n",
       "\n",
       "    .dataframe tbody tr th {\n",
       "        vertical-align: top;\n",
       "    }\n",
       "\n",
       "    .dataframe thead th {\n",
       "        text-align: right;\n",
       "    }\n",
       "</style>\n",
       "<table border=\"1\" class=\"dataframe\">\n",
       "  <thead>\n",
       "    <tr style=\"text-align: right;\">\n",
       "      <th></th>\n",
       "      <th>index</th>\n",
       "      <th>name</th>\n",
       "      <th>id</th>\n",
       "      <th>minutes</th>\n",
       "      <th>contributor_id</th>\n",
       "      <th>submitted</th>\n",
       "      <th>tags</th>\n",
       "      <th>nutrition</th>\n",
       "      <th>n_steps</th>\n",
       "      <th>steps</th>\n",
       "      <th>description</th>\n",
       "      <th>ingredients</th>\n",
       "      <th>n_ingredients</th>\n",
       "      <th>review</th>\n",
       "      <th>ingredients_string</th>\n",
       "      <th>tags_string</th>\n",
       "      <th>soup</th>\n",
       "    </tr>\n",
       "  </thead>\n",
       "  <tbody>\n",
       "    <tr>\n",
       "      <th>6</th>\n",
       "      <td>6</td>\n",
       "      <td>say what   banana sandwich</td>\n",
       "      <td>95926</td>\n",
       "      <td>5</td>\n",
       "      <td>118163</td>\n",
       "      <td>2004-07-20</td>\n",
       "      <td>[15-minutes-or-less, time-to-make, c...</td>\n",
       "      <td>[238.0, 3.0, 66.0, 10.0, 10.0, 2.0, ...</td>\n",
       "      <td>4</td>\n",
       "      <td>[spread a tablespoon on one side of ...</td>\n",
       "      <td>you just have to try it to believe it.</td>\n",
       "      <td>[white bread, mayonnaise, bananas]</td>\n",
       "      <td>3</td>\n",
       "      <td>[This tastes great when you substitu...</td>\n",
       "      <td>white bread mayonnaise bananas</td>\n",
       "      <td>15-minutes-or-less time-to-make cour...</td>\n",
       "      <td>white bread mayonnaise bananas 15-mi...</td>\n",
       "    </tr>\n",
       "    <tr>\n",
       "      <th>7</th>\n",
       "      <td>7</td>\n",
       "      <td>the best  banana bread  or muffins</td>\n",
       "      <td>39363</td>\n",
       "      <td>70</td>\n",
       "      <td>51579</td>\n",
       "      <td>2002-09-03</td>\n",
       "      <td>[weeknight, time-to-make, course, ma...</td>\n",
       "      <td>[175.7, 9.0, 65.0, 9.0, 5.0, 18.0, 9.0]</td>\n",
       "      <td>10</td>\n",
       "      <td>[cream together butter and sugar, bl...</td>\n",
       "      <td>okay, another banana bread recipe......</td>\n",
       "      <td>[butter, sugar, eggs, bananas, water...</td>\n",
       "      <td>11</td>\n",
       "      <td>[This is an excellent recipe!!  Ever...</td>\n",
       "      <td>butter sugar eggs bananas water baki...</td>\n",
       "      <td>weeknight time-to-make course main-i...</td>\n",
       "      <td>butter sugar eggs bananas water baki...</td>\n",
       "    </tr>\n",
       "    <tr>\n",
       "      <th>96</th>\n",
       "      <td>96</td>\n",
       "      <td>a to z bread</td>\n",
       "      <td>3748</td>\n",
       "      <td>80</td>\n",
       "      <td>1535</td>\n",
       "      <td>1999-10-30</td>\n",
       "      <td>[time-to-make, course, main-ingredie...</td>\n",
       "      <td>[367.0, 30.0, 101.0, 10.0, 9.0, 12.0...</td>\n",
       "      <td>12</td>\n",
       "      <td>[in a mixing bowl , combine the suga...</td>\n",
       "      <td>an extremely versatile bread. very m...</td>\n",
       "      <td>[sugar, vegetable oil, eggs, vanilla...</td>\n",
       "      <td>43</td>\n",
       "      <td>[I love the ease and versatility of ...</td>\n",
       "      <td>sugar vegetable oil eggs vanilla ext...</td>\n",
       "      <td>time-to-make course main-ingredient ...</td>\n",
       "      <td>sugar vegetable oil eggs vanilla ext...</td>\n",
       "    </tr>\n",
       "    <tr>\n",
       "      <th>116</th>\n",
       "      <td>116</td>\n",
       "      <td>african banana coconut bake</td>\n",
       "      <td>136381</td>\n",
       "      <td>10</td>\n",
       "      <td>149363</td>\n",
       "      <td>2005-09-06</td>\n",
       "      <td>[15-minutes-or-less, time-to-make, c...</td>\n",
       "      <td>[189.2, 9.0, 97.0, 2.0, 3.0, 18.0, 1...</td>\n",
       "      <td>6</td>\n",
       "      <td>[heat oven to 375f, cut bananas cros...</td>\n",
       "      <td>very simple and delicious recipe, we...</td>\n",
       "      <td>[bananas, margarine, orange juice, l...</td>\n",
       "      <td>6</td>\n",
       "      <td>[Loved it!  I halved the recipe and ...</td>\n",
       "      <td>bananas margarine orange juice lemon...</td>\n",
       "      <td>15-minutes-or-less time-to-make cour...</td>\n",
       "      <td>bananas margarine orange juice lemon...</td>\n",
       "    </tr>\n",
       "    <tr>\n",
       "      <th>134</th>\n",
       "      <td>134</td>\n",
       "      <td>almond fudge banana cake</td>\n",
       "      <td>142</td>\n",
       "      <td>110</td>\n",
       "      <td>104600</td>\n",
       "      <td>1999-08-20</td>\n",
       "      <td>[weeknight, time-to-make, course, pr...</td>\n",
       "      <td>[224.8, 14.0, 87.0, 10.0, 7.0, 9.0, ...</td>\n",
       "      <td>13</td>\n",
       "      <td>[mash bananas and set aside, beat su...</td>\n",
       "      <td>so glad i adopted this recipe.  i fi...</td>\n",
       "      <td>[dole banana, sugar, margarine, eggs...</td>\n",
       "      <td>11</td>\n",
       "      <td>[Came out great for a chocolate East...</td>\n",
       "      <td>dole banana sugar margarine eggs ama...</td>\n",
       "      <td>weeknight time-to-make course prepar...</td>\n",
       "      <td>dole banana sugar margarine eggs ama...</td>\n",
       "    </tr>\n",
       "    <tr>\n",
       "      <th>...</th>\n",
       "      <td>...</td>\n",
       "      <td>...</td>\n",
       "      <td>...</td>\n",
       "      <td>...</td>\n",
       "      <td>...</td>\n",
       "      <td>...</td>\n",
       "      <td>...</td>\n",
       "      <td>...</td>\n",
       "      <td>...</td>\n",
       "      <td>...</td>\n",
       "      <td>...</td>\n",
       "      <td>...</td>\n",
       "      <td>...</td>\n",
       "      <td>...</td>\n",
       "      <td>...</td>\n",
       "      <td>...</td>\n",
       "      <td>...</td>\n",
       "    </tr>\n",
       "    <tr>\n",
       "      <th>6453</th>\n",
       "      <td>6453</td>\n",
       "      <td>very best banana loaf</td>\n",
       "      <td>57811</td>\n",
       "      <td>95</td>\n",
       "      <td>42720</td>\n",
       "      <td>2003-04-03</td>\n",
       "      <td>[weeknight, time-to-make, course, ma...</td>\n",
       "      <td>[2605.2, 102.0, 1190.0, 97.0, 71.0, ...</td>\n",
       "      <td>15</td>\n",
       "      <td>[preheat oven to 300 degrees, spray ...</td>\n",
       "      <td>this banana bread is, without a doub...</td>\n",
       "      <td>[bananas, dark brown sugar, oil, egg...</td>\n",
       "      <td>12</td>\n",
       "      <td>[This is an EXCELLENT banana loaf re...</td>\n",
       "      <td>bananas dark brown sugar oil eggs va...</td>\n",
       "      <td>weeknight time-to-make course main-i...</td>\n",
       "      <td>bananas dark brown sugar oil eggs va...</td>\n",
       "    </tr>\n",
       "    <tr>\n",
       "      <th>6459</th>\n",
       "      <td>6459</td>\n",
       "      <td>very moist banana nut bread</td>\n",
       "      <td>82486</td>\n",
       "      <td>65</td>\n",
       "      <td>55166</td>\n",
       "      <td>2004-01-30</td>\n",
       "      <td>[time-to-make, course, main-ingredie...</td>\n",
       "      <td>[226.7, 16.0, 77.0, 5.0, 5.0, 7.0, 1...</td>\n",
       "      <td>10</td>\n",
       "      <td>[heat oven to 350, grease or spray 2...</td>\n",
       "      <td>this is a very easy, \"no mixer\" brea...</td>\n",
       "      <td>[sugar, salt, flour, vegetable oil, ...</td>\n",
       "      <td>10</td>\n",
       "      <td>[I`ve been eating this ladies wonder...</td>\n",
       "      <td>sugar salt flour vegetable oil eggs ...</td>\n",
       "      <td>time-to-make course main-ingredient ...</td>\n",
       "      <td>sugar salt flour vegetable oil eggs ...</td>\n",
       "    </tr>\n",
       "    <tr>\n",
       "      <th>6564</th>\n",
       "      <td>6564</td>\n",
       "      <td>whole wheat honey banana muffins</td>\n",
       "      <td>115432</td>\n",
       "      <td>35</td>\n",
       "      <td>157102</td>\n",
       "      <td>2005-04-05</td>\n",
       "      <td>[lactose, 60-minutes-or-less, time-t...</td>\n",
       "      <td>[178.6, 11.0, 52.0, 8.0, 7.0, 5.0, 9.0]</td>\n",
       "      <td>9</td>\n",
       "      <td>[stir together dry ingredients, beat...</td>\n",
       "      <td>these muffins are delicious and have...</td>\n",
       "      <td>[whole wheat flour, baking soda, sal...</td>\n",
       "      <td>9</td>\n",
       "      <td>[Not terribly fond of these and neit...</td>\n",
       "      <td>whole wheat flour baking soda salt w...</td>\n",
       "      <td>lactose 60-minutes-or-less time-to-m...</td>\n",
       "      <td>whole wheat flour baking soda salt w...</td>\n",
       "    </tr>\n",
       "    <tr>\n",
       "      <th>6647</th>\n",
       "      <td>6647</td>\n",
       "      <td>yum yum banana bread</td>\n",
       "      <td>19654</td>\n",
       "      <td>70</td>\n",
       "      <td>27678</td>\n",
       "      <td>2002-02-13</td>\n",
       "      <td>[weeknight, time-to-make, course, ma...</td>\n",
       "      <td>[2325.5, 90.0, 977.0, 72.0, 72.0, 16...</td>\n",
       "      <td>5</td>\n",
       "      <td>[pre-heat oven to 350 degrees f or 1...</td>\n",
       "      <td>another family classic, easy and yum...</td>\n",
       "      <td>[bananas, sugar, eggs, flour, baking...</td>\n",
       "      <td>6</td>\n",
       "      <td>[Very tasty!  My husband, who rarely...</td>\n",
       "      <td>bananas sugar eggs flour baking soda...</td>\n",
       "      <td>weeknight time-to-make course main-i...</td>\n",
       "      <td>bananas sugar eggs flour baking soda...</td>\n",
       "    </tr>\n",
       "    <tr>\n",
       "      <th>6652</th>\n",
       "      <td>6652</td>\n",
       "      <td>yummy banana bread</td>\n",
       "      <td>17083</td>\n",
       "      <td>80</td>\n",
       "      <td>27385</td>\n",
       "      <td>2002-01-10</td>\n",
       "      <td>[weeknight, time-to-make, course, ma...</td>\n",
       "      <td>[489.4, 32.0, 169.0, 30.0, 12.0, 64....</td>\n",
       "      <td>12</td>\n",
       "      <td>[preheat oven to 350f, with an elect...</td>\n",
       "      <td>this is the best banana bread i have...</td>\n",
       "      <td>[butter, sugar, eggs, all-purpose fl...</td>\n",
       "      <td>11</td>\n",
       "      <td>[Favorite banana muffins for my fami...</td>\n",
       "      <td>butter sugar eggs all-purpose flour ...</td>\n",
       "      <td>weeknight time-to-make course main-i...</td>\n",
       "      <td>butter sugar eggs all-purpose flour ...</td>\n",
       "    </tr>\n",
       "  </tbody>\n",
       "</table>\n",
       "<p>160 rows × 17 columns</p>\n",
       "</div>"
      ],
      "text/plain": [
       "      index                                name      id  minutes  \\\n",
       "6         6          say what   banana sandwich   95926        5   \n",
       "7         7  the best  banana bread  or muffins   39363       70   \n",
       "96       96                        a to z bread    3748       80   \n",
       "116     116         african banana coconut bake  136381       10   \n",
       "134     134            almond fudge banana cake     142      110   \n",
       "...     ...                                 ...     ...      ...   \n",
       "6453   6453               very best banana loaf   57811       95   \n",
       "6459   6459         very moist banana nut bread   82486       65   \n",
       "6564   6564    whole wheat honey banana muffins  115432       35   \n",
       "6647   6647                yum yum banana bread   19654       70   \n",
       "6652   6652                  yummy banana bread   17083       80   \n",
       "\n",
       "      contributor_id   submitted                                     tags  \\\n",
       "6             118163  2004-07-20  [15-minutes-or-less, time-to-make, c...   \n",
       "7              51579  2002-09-03  [weeknight, time-to-make, course, ma...   \n",
       "96              1535  1999-10-30  [time-to-make, course, main-ingredie...   \n",
       "116           149363  2005-09-06  [15-minutes-or-less, time-to-make, c...   \n",
       "134           104600  1999-08-20  [weeknight, time-to-make, course, pr...   \n",
       "...              ...         ...                                      ...   \n",
       "6453           42720  2003-04-03  [weeknight, time-to-make, course, ma...   \n",
       "6459           55166  2004-01-30  [time-to-make, course, main-ingredie...   \n",
       "6564          157102  2005-04-05  [lactose, 60-minutes-or-less, time-t...   \n",
       "6647           27678  2002-02-13  [weeknight, time-to-make, course, ma...   \n",
       "6652           27385  2002-01-10  [weeknight, time-to-make, course, ma...   \n",
       "\n",
       "                                    nutrition  n_steps  \\\n",
       "6     [238.0, 3.0, 66.0, 10.0, 10.0, 2.0, ...        4   \n",
       "7     [175.7, 9.0, 65.0, 9.0, 5.0, 18.0, 9.0]       10   \n",
       "96    [367.0, 30.0, 101.0, 10.0, 9.0, 12.0...       12   \n",
       "116   [189.2, 9.0, 97.0, 2.0, 3.0, 18.0, 1...        6   \n",
       "134   [224.8, 14.0, 87.0, 10.0, 7.0, 9.0, ...       13   \n",
       "...                                       ...      ...   \n",
       "6453  [2605.2, 102.0, 1190.0, 97.0, 71.0, ...       15   \n",
       "6459  [226.7, 16.0, 77.0, 5.0, 5.0, 7.0, 1...       10   \n",
       "6564  [178.6, 11.0, 52.0, 8.0, 7.0, 5.0, 9.0]        9   \n",
       "6647  [2325.5, 90.0, 977.0, 72.0, 72.0, 16...        5   \n",
       "6652  [489.4, 32.0, 169.0, 30.0, 12.0, 64....       12   \n",
       "\n",
       "                                        steps  \\\n",
       "6     [spread a tablespoon on one side of ...   \n",
       "7     [cream together butter and sugar, bl...   \n",
       "96    [in a mixing bowl , combine the suga...   \n",
       "116   [heat oven to 375f, cut bananas cros...   \n",
       "134   [mash bananas and set aside, beat su...   \n",
       "...                                       ...   \n",
       "6453  [preheat oven to 300 degrees, spray ...   \n",
       "6459  [heat oven to 350, grease or spray 2...   \n",
       "6564  [stir together dry ingredients, beat...   \n",
       "6647  [pre-heat oven to 350 degrees f or 1...   \n",
       "6652  [preheat oven to 350f, with an elect...   \n",
       "\n",
       "                                  description  \\\n",
       "6      you just have to try it to believe it.   \n",
       "7     okay, another banana bread recipe......   \n",
       "96    an extremely versatile bread. very m...   \n",
       "116   very simple and delicious recipe, we...   \n",
       "134   so glad i adopted this recipe.  i fi...   \n",
       "...                                       ...   \n",
       "6453  this banana bread is, without a doub...   \n",
       "6459  this is a very easy, \"no mixer\" brea...   \n",
       "6564  these muffins are delicious and have...   \n",
       "6647  another family classic, easy and yum...   \n",
       "6652  this is the best banana bread i have...   \n",
       "\n",
       "                                  ingredients  n_ingredients  \\\n",
       "6          [white bread, mayonnaise, bananas]              3   \n",
       "7     [butter, sugar, eggs, bananas, water...             11   \n",
       "96    [sugar, vegetable oil, eggs, vanilla...             43   \n",
       "116   [bananas, margarine, orange juice, l...              6   \n",
       "134   [dole banana, sugar, margarine, eggs...             11   \n",
       "...                                       ...            ...   \n",
       "6453  [bananas, dark brown sugar, oil, egg...             12   \n",
       "6459  [sugar, salt, flour, vegetable oil, ...             10   \n",
       "6564  [whole wheat flour, baking soda, sal...              9   \n",
       "6647  [bananas, sugar, eggs, flour, baking...              6   \n",
       "6652  [butter, sugar, eggs, all-purpose fl...             11   \n",
       "\n",
       "                                       review  \\\n",
       "6     [This tastes great when you substitu...   \n",
       "7     [This is an excellent recipe!!  Ever...   \n",
       "96    [I love the ease and versatility of ...   \n",
       "116   [Loved it!  I halved the recipe and ...   \n",
       "134   [Came out great for a chocolate East...   \n",
       "...                                       ...   \n",
       "6453  [This is an EXCELLENT banana loaf re...   \n",
       "6459  [I`ve been eating this ladies wonder...   \n",
       "6564  [Not terribly fond of these and neit...   \n",
       "6647  [Very tasty!  My husband, who rarely...   \n",
       "6652  [Favorite banana muffins for my fami...   \n",
       "\n",
       "                           ingredients_string  \\\n",
       "6              white bread mayonnaise bananas   \n",
       "7     butter sugar eggs bananas water baki...   \n",
       "96    sugar vegetable oil eggs vanilla ext...   \n",
       "116   bananas margarine orange juice lemon...   \n",
       "134   dole banana sugar margarine eggs ama...   \n",
       "...                                       ...   \n",
       "6453  bananas dark brown sugar oil eggs va...   \n",
       "6459  sugar salt flour vegetable oil eggs ...   \n",
       "6564  whole wheat flour baking soda salt w...   \n",
       "6647  bananas sugar eggs flour baking soda...   \n",
       "6652  butter sugar eggs all-purpose flour ...   \n",
       "\n",
       "                                  tags_string  \\\n",
       "6     15-minutes-or-less time-to-make cour...   \n",
       "7     weeknight time-to-make course main-i...   \n",
       "96    time-to-make course main-ingredient ...   \n",
       "116   15-minutes-or-less time-to-make cour...   \n",
       "134   weeknight time-to-make course prepar...   \n",
       "...                                       ...   \n",
       "6453  weeknight time-to-make course main-i...   \n",
       "6459  time-to-make course main-ingredient ...   \n",
       "6564  lactose 60-minutes-or-less time-to-m...   \n",
       "6647  weeknight time-to-make course main-i...   \n",
       "6652  weeknight time-to-make course main-i...   \n",
       "\n",
       "                                         soup  \n",
       "6     white bread mayonnaise bananas 15-mi...  \n",
       "7     butter sugar eggs bananas water baki...  \n",
       "96    sugar vegetable oil eggs vanilla ext...  \n",
       "116   bananas margarine orange juice lemon...  \n",
       "134   dole banana sugar margarine eggs ama...  \n",
       "...                                       ...  \n",
       "6453  bananas dark brown sugar oil eggs va...  \n",
       "6459  sugar salt flour vegetable oil eggs ...  \n",
       "6564  whole wheat flour baking soda salt w...  \n",
       "6647  bananas sugar eggs flour baking soda...  \n",
       "6652  butter sugar eggs all-purpose flour ...  \n",
       "\n",
       "[160 rows x 17 columns]"
      ]
     },
     "execution_count": 268,
     "metadata": {},
     "output_type": "execute_result"
    }
   ],
   "source": [
    "new_search"
   ]
  },
  {
   "cell_type": "markdown",
   "metadata": {},
   "source": [
    "#### Search for tags in recipes"
   ]
  },
  {
   "cell_type": "code",
   "execution_count": 331,
   "metadata": {},
   "outputs": [],
   "source": [
    "pd.set_option('max_colwidth', 1000)\n",
    "query_1= \"\"\n",
    "query_2= \"vegan\"\n",
    "query_3= \"\""
   ]
  },
  {
   "cell_type": "code",
   "execution_count": 322,
   "metadata": {},
   "outputs": [
    {
     "data": {
      "text/html": [
       "<div>\n",
       "<style scoped>\n",
       "    .dataframe tbody tr th:only-of-type {\n",
       "        vertical-align: middle;\n",
       "    }\n",
       "\n",
       "    .dataframe tbody tr th {\n",
       "        vertical-align: top;\n",
       "    }\n",
       "\n",
       "    .dataframe thead th {\n",
       "        text-align: right;\n",
       "    }\n",
       "</style>\n",
       "<table border=\"1\" class=\"dataframe\">\n",
       "  <thead>\n",
       "    <tr style=\"text-align: right;\">\n",
       "      <th></th>\n",
       "      <th>index</th>\n",
       "      <th>name</th>\n",
       "      <th>id</th>\n",
       "      <th>minutes</th>\n",
       "      <th>contributor_id</th>\n",
       "      <th>submitted</th>\n",
       "      <th>tags</th>\n",
       "      <th>nutrition</th>\n",
       "      <th>n_steps</th>\n",
       "      <th>steps</th>\n",
       "      <th>description</th>\n",
       "      <th>ingredients</th>\n",
       "      <th>n_ingredients</th>\n",
       "      <th>review</th>\n",
       "      <th>ingredients_string</th>\n",
       "      <th>tags_string</th>\n",
       "      <th>soup</th>\n",
       "    </tr>\n",
       "  </thead>\n",
       "  <tbody>\n",
       "  </tbody>\n",
       "</table>\n",
       "</div>"
      ],
      "text/plain": [
       "Empty DataFrame\n",
       "Columns: [index, name, id, minutes, contributor_id, submitted, tags, nutrition, n_steps, steps, description, ingredients, n_ingredients, review, ingredients_string, tags_string, soup]\n",
       "Index: []"
      ]
     },
     "execution_count": 322,
     "metadata": {},
     "output_type": "execute_result"
    }
   ],
   "source": [
    "# Search for ingredients\n",
    "reg_string= f\"(?=.*{query_1})(?=.*{query_2})(?=.*{query_3})\"\n",
    "mask = np.column_stack([new_search['tags_string'].str.contains(reg_string, na=False)])\n",
    "new_search[mask]"
   ]
  },
  {
   "cell_type": "code",
   "execution_count": 332,
   "metadata": {},
   "outputs": [],
   "source": [
    "##### Remove\n",
    "\n",
    "# Search for ingredients\n",
    "reg_string= f\"(?=.*{query_1})(?=.*{query_2})(?=.*{query_3})\"\n",
    "mask = np.column_stack([recommend_recipes['tags_string'].str.contains(reg_string, na=False)])\n",
    "new_search = recommend_recipes[mask]"
   ]
  },
  {
   "cell_type": "code",
   "execution_count": 333,
   "metadata": {},
   "outputs": [
    {
     "data": {
      "text/plain": [
       "(294, 17)"
      ]
     },
     "execution_count": 333,
     "metadata": {},
     "output_type": "execute_result"
    }
   ],
   "source": [
    "new_search.shape"
   ]
  },
  {
   "cell_type": "code",
   "execution_count": 168,
   "metadata": {},
   "outputs": [],
   "source": [
    "# Apply clean_data function to your features.\n",
    "features = ['tags', 'description', 'ingredients']\n",
    "\n",
    "for feature in features:\n",
    "    recommend_recipes[feature] = recommend_recipes[feature].apply(clean_data)"
   ]
  },
  {
   "cell_type": "code",
   "execution_count": 169,
   "metadata": {},
   "outputs": [],
   "source": [
    "# create new column ingredients_string\n",
    "#test = recommend_recipes['soup'] = recommend_recipes.apply(create_string_feature, axis=1)\n",
    "recommend_recipes['ingredients_string'] = recommend_recipes.ingredients.apply(create_string_feature)\n",
    "\n",
    "# create new column tags_string\n",
    "recommend_recipes['tags_string'] = recommend_recipes.tags.apply(create_string_feature)"
   ]
  },
  {
   "cell_type": "code",
   "execution_count": 170,
   "metadata": {},
   "outputs": [
    {
     "data": {
      "text/html": [
       "<div>\n",
       "<style scoped>\n",
       "    .dataframe tbody tr th:only-of-type {\n",
       "        vertical-align: middle;\n",
       "    }\n",
       "\n",
       "    .dataframe tbody tr th {\n",
       "        vertical-align: top;\n",
       "    }\n",
       "\n",
       "    .dataframe thead th {\n",
       "        text-align: right;\n",
       "    }\n",
       "</style>\n",
       "<table border=\"1\" class=\"dataframe\">\n",
       "  <thead>\n",
       "    <tr style=\"text-align: right;\">\n",
       "      <th></th>\n",
       "      <th>name</th>\n",
       "      <th>id</th>\n",
       "      <th>minutes</th>\n",
       "      <th>contributor_id</th>\n",
       "      <th>submitted</th>\n",
       "      <th>tags</th>\n",
       "      <th>nutrition</th>\n",
       "      <th>n_steps</th>\n",
       "      <th>steps</th>\n",
       "      <th>description</th>\n",
       "      <th>ingredients</th>\n",
       "      <th>n_ingredients</th>\n",
       "      <th>review</th>\n",
       "      <th>ingredients_string</th>\n",
       "      <th>tags_string</th>\n",
       "    </tr>\n",
       "  </thead>\n",
       "  <tbody>\n",
       "    <tr>\n",
       "      <th>0</th>\n",
       "      <td>chile rellenos</td>\n",
       "      <td>43026</td>\n",
       "      <td>45</td>\n",
       "      <td>52268</td>\n",
       "      <td>2002-10-14</td>\n",
       "      <td>[60-minutes-or-less, time-to-make, course, mai...</td>\n",
       "      <td>[94.0, 10.0, 0.0, 11.0, 11.0, 21.0, 0.0]</td>\n",
       "      <td>9</td>\n",
       "      <td>[drain green chiles, sprinkle cornstarch on sh...</td>\n",
       "      <td>a favorite from a local restaurant no longer i...</td>\n",
       "      <td>[egg roll wrap, whole green chilies, cheese, c...</td>\n",
       "      <td>5</td>\n",
       "      <td>[Grandma Pam,\\r\\n  Oh my goodness,these were s...</td>\n",
       "      <td>egg roll wrap whole green chilies cheese corns...</td>\n",
       "      <td>60-minutes-or-less time-to-make course main-in...</td>\n",
       "    </tr>\n",
       "    <tr>\n",
       "      <th>1</th>\n",
       "      <td>how i got my family to eat spinach  spinach ca...</td>\n",
       "      <td>25775</td>\n",
       "      <td>50</td>\n",
       "      <td>37305</td>\n",
       "      <td>2002-04-22</td>\n",
       "      <td>[60-minutes-or-less, time-to-make, course, mai...</td>\n",
       "      <td>[166.1, 16.0, 6.0, 32.0, 19.0, 26.0, 3.0]</td>\n",
       "      <td>5</td>\n",
       "      <td>[preheat oven to 350 degrees, place spinach in...</td>\n",
       "      <td>if spinach scares you, this is one recipe that...</td>\n",
       "      <td>[frozen chopped spinach, egg, salt, black pepp...</td>\n",
       "      <td>8</td>\n",
       "      <td>[The recipe was good but too salty.  I agree w...</td>\n",
       "      <td>frozen chopped spinach egg salt black pepper o...</td>\n",
       "      <td>60-minutes-or-less time-to-make course main-in...</td>\n",
       "    </tr>\n",
       "    <tr>\n",
       "      <th>2</th>\n",
       "      <td>immoral  sandwich filling  loose meat</td>\n",
       "      <td>58224</td>\n",
       "      <td>35</td>\n",
       "      <td>37183</td>\n",
       "      <td>2003-04-04</td>\n",
       "      <td>[60-minutes-or-less, time-to-make, course, mai...</td>\n",
       "      <td>[223.2, 22.0, 4.0, 7.0, 35.0, 30.0, 0.0]</td>\n",
       "      <td>6</td>\n",
       "      <td>[brown the meat &amp; drain fat, stir in sugar , m...</td>\n",
       "      <td>just the thing for a day when you're wanton so...</td>\n",
       "      <td>[ground beef, sugar, prepared yellow mustard, ...</td>\n",
       "      <td>8</td>\n",
       "      <td>[These are so good!! My family devoured them -...</td>\n",
       "      <td>ground beef sugar prepared yellow mustard beer...</td>\n",
       "      <td>60-minutes-or-less time-to-make course main-in...</td>\n",
       "    </tr>\n",
       "    <tr>\n",
       "      <th>3</th>\n",
       "      <td>land of nod  cinnamon buns</td>\n",
       "      <td>22526</td>\n",
       "      <td>35</td>\n",
       "      <td>29212</td>\n",
       "      <td>2002-03-14</td>\n",
       "      <td>[60-minutes-or-less, time-to-make, course, pre...</td>\n",
       "      <td>[575.3, 18.0, 116.0, 34.0, 28.0, 22.0, 34.0]</td>\n",
       "      <td>7</td>\n",
       "      <td>[before you turn in for the night , grease a 1...</td>\n",
       "      <td>i have made this several times and it's dead e...</td>\n",
       "      <td>[rolls, brown sugar, instant vanilla pudding, ...</td>\n",
       "      <td>6</td>\n",
       "      <td>[I made these a while back for a fellowship me...</td>\n",
       "      <td>rolls brown sugar instant vanilla pudding cinn...</td>\n",
       "      <td>60-minutes-or-less time-to-make course prepara...</td>\n",
       "    </tr>\n",
       "    <tr>\n",
       "      <th>4</th>\n",
       "      <td>never weep  whipped cream</td>\n",
       "      <td>74805</td>\n",
       "      <td>5</td>\n",
       "      <td>87877</td>\n",
       "      <td>2003-11-01</td>\n",
       "      <td>[15-minutes-or-less, time-to-make, course, mai...</td>\n",
       "      <td>[276.3, 45.0, 2.0, 1.0, 3.0, 91.0, 0.0]</td>\n",
       "      <td>4</td>\n",
       "      <td>[whip all ingredients together until firm peak...</td>\n",
       "      <td>i don't know where i got this, but it works. t...</td>\n",
       "      <td>[whipping cream, vanilla instant pudding mix, ...</td>\n",
       "      <td>4</td>\n",
       "      <td>[I don't know why this works, but it sure does...</td>\n",
       "      <td>whipping cream vanilla instant pudding mix pow...</td>\n",
       "      <td>15-minutes-or-less time-to-make course main-in...</td>\n",
       "    </tr>\n",
       "  </tbody>\n",
       "</table>\n",
       "</div>"
      ],
      "text/plain": [
       "                                                name     id  minutes  \\\n",
       "0                                     chile rellenos  43026       45   \n",
       "1  how i got my family to eat spinach  spinach ca...  25775       50   \n",
       "2              immoral  sandwich filling  loose meat  58224       35   \n",
       "3                         land of nod  cinnamon buns  22526       35   \n",
       "4                          never weep  whipped cream  74805        5   \n",
       "\n",
       "   contributor_id   submitted  \\\n",
       "0           52268  2002-10-14   \n",
       "1           37305  2002-04-22   \n",
       "2           37183  2003-04-04   \n",
       "3           29212  2002-03-14   \n",
       "4           87877  2003-11-01   \n",
       "\n",
       "                                                tags  \\\n",
       "0  [60-minutes-or-less, time-to-make, course, mai...   \n",
       "1  [60-minutes-or-less, time-to-make, course, mai...   \n",
       "2  [60-minutes-or-less, time-to-make, course, mai...   \n",
       "3  [60-minutes-or-less, time-to-make, course, pre...   \n",
       "4  [15-minutes-or-less, time-to-make, course, mai...   \n",
       "\n",
       "                                      nutrition  n_steps  \\\n",
       "0      [94.0, 10.0, 0.0, 11.0, 11.0, 21.0, 0.0]        9   \n",
       "1     [166.1, 16.0, 6.0, 32.0, 19.0, 26.0, 3.0]        5   \n",
       "2      [223.2, 22.0, 4.0, 7.0, 35.0, 30.0, 0.0]        6   \n",
       "3  [575.3, 18.0, 116.0, 34.0, 28.0, 22.0, 34.0]        7   \n",
       "4       [276.3, 45.0, 2.0, 1.0, 3.0, 91.0, 0.0]        4   \n",
       "\n",
       "                                               steps  \\\n",
       "0  [drain green chiles, sprinkle cornstarch on sh...   \n",
       "1  [preheat oven to 350 degrees, place spinach in...   \n",
       "2  [brown the meat & drain fat, stir in sugar , m...   \n",
       "3  [before you turn in for the night , grease a 1...   \n",
       "4  [whip all ingredients together until firm peak...   \n",
       "\n",
       "                                         description  \\\n",
       "0  a favorite from a local restaurant no longer i...   \n",
       "1  if spinach scares you, this is one recipe that...   \n",
       "2  just the thing for a day when you're wanton so...   \n",
       "3  i have made this several times and it's dead e...   \n",
       "4  i don't know where i got this, but it works. t...   \n",
       "\n",
       "                                         ingredients  n_ingredients  \\\n",
       "0  [egg roll wrap, whole green chilies, cheese, c...              5   \n",
       "1  [frozen chopped spinach, egg, salt, black pepp...              8   \n",
       "2  [ground beef, sugar, prepared yellow mustard, ...              8   \n",
       "3  [rolls, brown sugar, instant vanilla pudding, ...              6   \n",
       "4  [whipping cream, vanilla instant pudding mix, ...              4   \n",
       "\n",
       "                                              review  \\\n",
       "0  [Grandma Pam,\\r\\n  Oh my goodness,these were s...   \n",
       "1  [The recipe was good but too salty.  I agree w...   \n",
       "2  [These are so good!! My family devoured them -...   \n",
       "3  [I made these a while back for a fellowship me...   \n",
       "4  [I don't know why this works, but it sure does...   \n",
       "\n",
       "                                  ingredients_string  \\\n",
       "0  egg roll wrap whole green chilies cheese corns...   \n",
       "1  frozen chopped spinach egg salt black pepper o...   \n",
       "2  ground beef sugar prepared yellow mustard beer...   \n",
       "3  rolls brown sugar instant vanilla pudding cinn...   \n",
       "4  whipping cream vanilla instant pudding mix pow...   \n",
       "\n",
       "                                         tags_string  \n",
       "0  60-minutes-or-less time-to-make course main-in...  \n",
       "1  60-minutes-or-less time-to-make course main-in...  \n",
       "2  60-minutes-or-less time-to-make course main-in...  \n",
       "3  60-minutes-or-less time-to-make course prepara...  \n",
       "4  15-minutes-or-less time-to-make course main-in...  "
      ]
     },
     "execution_count": 170,
     "metadata": {},
     "output_type": "execute_result"
    }
   ],
   "source": [
    "recommend_recipes.head()"
   ]
  },
  {
   "cell_type": "code",
   "execution_count": 171,
   "metadata": {},
   "outputs": [
    {
     "data": {
      "text/plain": [
       "'egg roll wrap whole green chilies cheese cornstarch oil'"
      ]
     },
     "execution_count": 171,
     "metadata": {},
     "output_type": "execute_result"
    }
   ],
   "source": [
    "recommend_recipes['ingredients_string'][0]"
   ]
  },
  {
   "cell_type": "code",
   "execution_count": 172,
   "metadata": {},
   "outputs": [
    {
     "data": {
      "text/plain": [
       "['egg roll wrap', 'whole green chilies', 'cheese', 'cornstarch', 'oil']"
      ]
     },
     "execution_count": 172,
     "metadata": {},
     "output_type": "execute_result"
    }
   ],
   "source": [
    "recommend_recipes['ingredients'][0]"
   ]
  },
  {
   "cell_type": "code",
   "execution_count": 173,
   "metadata": {},
   "outputs": [],
   "source": [
    "# Create a new soup feature\n",
    "recommend_recipes['soup'] = recommend_recipes.apply(create_soup, axis=1)"
   ]
  },
  {
   "cell_type": "code",
   "execution_count": 174,
   "metadata": {},
   "outputs": [
    {
     "data": {
      "text/html": [
       "<div>\n",
       "<style scoped>\n",
       "    .dataframe tbody tr th:only-of-type {\n",
       "        vertical-align: middle;\n",
       "    }\n",
       "\n",
       "    .dataframe tbody tr th {\n",
       "        vertical-align: top;\n",
       "    }\n",
       "\n",
       "    .dataframe thead th {\n",
       "        text-align: right;\n",
       "    }\n",
       "</style>\n",
       "<table border=\"1\" class=\"dataframe\">\n",
       "  <thead>\n",
       "    <tr style=\"text-align: right;\">\n",
       "      <th></th>\n",
       "      <th>soup</th>\n",
       "    </tr>\n",
       "  </thead>\n",
       "  <tbody>\n",
       "    <tr>\n",
       "      <th>0</th>\n",
       "      <td>egg roll wrap whole green chilies cheese corns...</td>\n",
       "    </tr>\n",
       "    <tr>\n",
       "      <th>1</th>\n",
       "      <td>frozen chopped spinach egg salt black pepper o...</td>\n",
       "    </tr>\n",
       "  </tbody>\n",
       "</table>\n",
       "</div>"
      ],
      "text/plain": [
       "                                                soup\n",
       "0  egg roll wrap whole green chilies cheese corns...\n",
       "1  frozen chopped spinach egg salt black pepper o..."
      ]
     },
     "execution_count": 174,
     "metadata": {},
     "output_type": "execute_result"
    }
   ],
   "source": [
    "recommend_recipes[['soup']].head(2)"
   ]
  },
  {
   "cell_type": "code",
   "execution_count": 175,
   "metadata": {},
   "outputs": [],
   "source": [
    "# Import CountVectorizer and create the count matrix\n",
    "from sklearn.feature_extraction.text import CountVectorizer\n",
    "\n",
    "count = CountVectorizer(stop_words='english')\n",
    "count_matrix = count.fit_transform(recommend_recipes['soup'])"
   ]
  },
  {
   "cell_type": "code",
   "execution_count": 176,
   "metadata": {},
   "outputs": [
    {
     "data": {
      "text/plain": [
       "(6699, 11026)"
      ]
     },
     "execution_count": 176,
     "metadata": {},
     "output_type": "execute_result"
    }
   ],
   "source": [
    "count_matrix.shape"
   ]
  },
  {
   "cell_type": "markdown",
   "metadata": {},
   "source": [
    "#### Calculate cosine similarity"
   ]
  },
  {
   "cell_type": "code",
   "execution_count": 177,
   "metadata": {},
   "outputs": [],
   "source": [
    "from sklearn.metrics.pairwise import cosine_similarity\n",
    "\n",
    "cosine_sim2 = cosine_similarity(count_matrix, count_matrix)"
   ]
  },
  {
   "cell_type": "code",
   "execution_count": 184,
   "metadata": {},
   "outputs": [],
   "source": [
    "# Reset index of your main DataFrame and construct reverse mapping as before\n",
    "recommend_recipes =recommend_recipes.reset_index()\n",
    "indices = pd.Series(recommend_recipes.index, index=recommend_recipes['name'])"
   ]
  },
  {
   "cell_type": "code",
   "execution_count": 185,
   "metadata": {},
   "outputs": [
    {
     "data": {
      "text/plain": [
       "(6699, 17)"
      ]
     },
     "execution_count": 185,
     "metadata": {},
     "output_type": "execute_result"
    }
   ],
   "source": [
    "recommend_recipes.shape"
   ]
  },
  {
   "cell_type": "code",
   "execution_count": 186,
   "metadata": {},
   "outputs": [
    {
     "data": {
      "text/plain": [
       "name\n",
       "chile rellenos                                              0\n",
       "how i got my family to eat spinach  spinach casserole       1\n",
       "immoral  sandwich filling  loose meat                       2\n",
       "land of nod  cinnamon buns                                  3\n",
       "never weep  whipped cream                                   4\n",
       "                                                         ... \n",
       "zucchini salsa  canned                                   6694\n",
       "zucchini they will eat                                   6695\n",
       "zucchini pepper relish                                   6696\n",
       "zuppa toscana soup   olive garden clone                  6697\n",
       "zurie s overnight no knead bread                         6698\n",
       "Length: 6699, dtype: int64"
      ]
     },
     "execution_count": 186,
     "metadata": {},
     "output_type": "execute_result"
    }
   ],
   "source": [
    "indices"
   ]
  },
  {
   "cell_type": "code",
   "execution_count": 187,
   "metadata": {},
   "outputs": [],
   "source": [
    "# Function that takes in movie title as input and outputs most similar movies\n",
    "def get_recommendations(name, cosine_sim=cosine_sim2):\n",
    "    # Get the index of the movie that matches the title\n",
    "    idx = indices[name]\n",
    "\n",
    "    # Get the pairwsie similarity scores of all movies with that movie\n",
    "    sim_scores = list(enumerate(cosine_sim[idx]))\n",
    "\n",
    "    # Sort the movies based on the similarity scores\n",
    "    sim_scores = sorted(sim_scores, key=lambda x: x[1], reverse=True)\n",
    "\n",
    "    # Get the scores of the 10 most similar movies\n",
    "    sim_scores = sim_scores[1:11]\n",
    "\n",
    "    # Get the movie indices\n",
    "    recipe_indices = [i[0] for i in sim_scores]\n",
    "\n",
    "    # Return the top 10 most similar movies\n",
    "    return recipes['name'].iloc[recipe_indices]"
   ]
  },
  {
   "cell_type": "markdown",
   "metadata": {},
   "source": [
    "#### Test"
   ]
  },
  {
   "cell_type": "markdown",
   "metadata": {},
   "source": [
    "##### Test-1"
   ]
  },
  {
   "cell_type": "code",
   "execution_count": 188,
   "metadata": {},
   "outputs": [
    {
     "data": {
      "text/plain": [
       "2300                           easy hamburger stew\n",
       "2836                          grandmas sloppy joes\n",
       "631                    beef stroganoff   crock pot\n",
       "2371             easy  creamy hamburger stroganoff\n",
       "623                    beef patties in onion gravy\n",
       "1180                cheeseburger   fries casserole\n",
       "965     budget stretcher beef and potato casserole\n",
       "4019                       meatloaf barbecue style\n",
       "2964                 ground beef supreme casserole\n",
       "2076                               dad s casserole\n",
       "Name: name, dtype: object"
      ]
     },
     "execution_count": 188,
     "metadata": {},
     "output_type": "execute_result"
    }
   ],
   "source": [
    "get_recommendations('stroganoff', cosine_sim2)"
   ]
  },
  {
   "cell_type": "code",
   "execution_count": 189,
   "metadata": {},
   "outputs": [
    {
     "data": {
      "text/html": [
       "<div>\n",
       "<style scoped>\n",
       "    .dataframe tbody tr th:only-of-type {\n",
       "        vertical-align: middle;\n",
       "    }\n",
       "\n",
       "    .dataframe tbody tr th {\n",
       "        vertical-align: top;\n",
       "    }\n",
       "\n",
       "    .dataframe thead th {\n",
       "        text-align: right;\n",
       "    }\n",
       "</style>\n",
       "<table border=\"1\" class=\"dataframe\">\n",
       "  <thead>\n",
       "    <tr style=\"text-align: right;\">\n",
       "      <th></th>\n",
       "      <th>index</th>\n",
       "      <th>name</th>\n",
       "      <th>id</th>\n",
       "      <th>minutes</th>\n",
       "      <th>contributor_id</th>\n",
       "      <th>submitted</th>\n",
       "      <th>tags</th>\n",
       "      <th>nutrition</th>\n",
       "      <th>n_steps</th>\n",
       "      <th>steps</th>\n",
       "      <th>description</th>\n",
       "      <th>ingredients</th>\n",
       "      <th>n_ingredients</th>\n",
       "      <th>review</th>\n",
       "      <th>ingredients_string</th>\n",
       "      <th>tags_string</th>\n",
       "      <th>soup</th>\n",
       "    </tr>\n",
       "  </thead>\n",
       "  <tbody>\n",
       "    <tr>\n",
       "      <th>5840</th>\n",
       "      <td>5840</td>\n",
       "      <td>stroganoff</td>\n",
       "      <td>13906</td>\n",
       "      <td>25</td>\n",
       "      <td>23073</td>\n",
       "      <td>2001-11-07</td>\n",
       "      <td>[30-minutes-or-less, time-to-make, course, mai...</td>\n",
       "      <td>[430.5, 50.0, 15.0, 30.0, 47.0, 71.0, 3.0]</td>\n",
       "      <td>7</td>\n",
       "      <td>[brown beef in large skillet, add onions and c...</td>\n",
       "      <td>this recipe was used by both my mother and my ...</td>\n",
       "      <td>[ground beef, onion, garlic powder, salt, pepp...</td>\n",
       "      <td>8</td>\n",
       "      <td>[Really tasty and filling. My hubby is looking...</td>\n",
       "      <td>ground beef onion garlic powder salt pepper co...</td>\n",
       "      <td>30-minutes-or-less time-to-make course main-in...</td>\n",
       "      <td>ground beef onion garlic powder salt pepper co...</td>\n",
       "    </tr>\n",
       "  </tbody>\n",
       "</table>\n",
       "</div>"
      ],
      "text/plain": [
       "      index        name     id  minutes  contributor_id   submitted  \\\n",
       "5840   5840  stroganoff  13906       25           23073  2001-11-07   \n",
       "\n",
       "                                                   tags  \\\n",
       "5840  [30-minutes-or-less, time-to-make, course, mai...   \n",
       "\n",
       "                                       nutrition  n_steps  \\\n",
       "5840  [430.5, 50.0, 15.0, 30.0, 47.0, 71.0, 3.0]        7   \n",
       "\n",
       "                                                  steps  \\\n",
       "5840  [brown beef in large skillet, add onions and c...   \n",
       "\n",
       "                                            description  \\\n",
       "5840  this recipe was used by both my mother and my ...   \n",
       "\n",
       "                                            ingredients  n_ingredients  \\\n",
       "5840  [ground beef, onion, garlic powder, salt, pepp...              8   \n",
       "\n",
       "                                                 review  \\\n",
       "5840  [Really tasty and filling. My hubby is looking...   \n",
       "\n",
       "                                     ingredients_string  \\\n",
       "5840  ground beef onion garlic powder salt pepper co...   \n",
       "\n",
       "                                            tags_string  \\\n",
       "5840  30-minutes-or-less time-to-make course main-in...   \n",
       "\n",
       "                                                   soup  \n",
       "5840  ground beef onion garlic powder salt pepper co...  "
      ]
     },
     "execution_count": 189,
     "metadata": {},
     "output_type": "execute_result"
    }
   ],
   "source": [
    "recommend_recipes[recommend_recipes['name']== 'stroganoff']"
   ]
  },
  {
   "cell_type": "markdown",
   "metadata": {},
   "source": [
    "##### Test-2"
   ]
  },
  {
   "cell_type": "code",
   "execution_count": 190,
   "metadata": {},
   "outputs": [],
   "source": [
    "search_name = recommend_recipes[recommend_recipes['index']==7][\"name\"].iloc[0]"
   ]
  },
  {
   "cell_type": "code",
   "execution_count": 191,
   "metadata": {},
   "outputs": [
    {
     "data": {
      "text/plain": [
       "'the best  banana bread  or muffins'"
      ]
     },
     "execution_count": 191,
     "metadata": {},
     "output_type": "execute_result"
    }
   ],
   "source": [
    "search_name"
   ]
  },
  {
   "cell_type": "code",
   "execution_count": 192,
   "metadata": {},
   "outputs": [
    {
     "data": {
      "text/html": [
       "<div>\n",
       "<style scoped>\n",
       "    .dataframe tbody tr th:only-of-type {\n",
       "        vertical-align: middle;\n",
       "    }\n",
       "\n",
       "    .dataframe tbody tr th {\n",
       "        vertical-align: top;\n",
       "    }\n",
       "\n",
       "    .dataframe thead th {\n",
       "        text-align: right;\n",
       "    }\n",
       "</style>\n",
       "<table border=\"1\" class=\"dataframe\">\n",
       "  <thead>\n",
       "    <tr style=\"text-align: right;\">\n",
       "      <th></th>\n",
       "      <th>index</th>\n",
       "      <th>name</th>\n",
       "      <th>id</th>\n",
       "      <th>minutes</th>\n",
       "      <th>contributor_id</th>\n",
       "      <th>submitted</th>\n",
       "      <th>tags</th>\n",
       "      <th>nutrition</th>\n",
       "      <th>n_steps</th>\n",
       "      <th>steps</th>\n",
       "      <th>description</th>\n",
       "      <th>ingredients</th>\n",
       "      <th>n_ingredients</th>\n",
       "      <th>review</th>\n",
       "      <th>ingredients_string</th>\n",
       "      <th>tags_string</th>\n",
       "      <th>soup</th>\n",
       "    </tr>\n",
       "  </thead>\n",
       "  <tbody>\n",
       "    <tr>\n",
       "      <th>7</th>\n",
       "      <td>7</td>\n",
       "      <td>the best  banana bread  or muffins</td>\n",
       "      <td>39363</td>\n",
       "      <td>70</td>\n",
       "      <td>51579</td>\n",
       "      <td>2002-09-03</td>\n",
       "      <td>[weeknight, time-to-make, course, main-ingredi...</td>\n",
       "      <td>[175.7, 9.0, 65.0, 9.0, 5.0, 18.0, 9.0]</td>\n",
       "      <td>10</td>\n",
       "      <td>[cream together butter and sugar, blend in egg...</td>\n",
       "      <td>okay, another banana bread recipe...but maybe ...</td>\n",
       "      <td>[butter, sugar, eggs, bananas, water, baking s...</td>\n",
       "      <td>11</td>\n",
       "      <td>[This is an excellent recipe!!  Everyone loved...</td>\n",
       "      <td>butter sugar eggs bananas water baking soda sa...</td>\n",
       "      <td>weeknight time-to-make course main-ingredient ...</td>\n",
       "      <td>butter sugar eggs bananas water baking soda sa...</td>\n",
       "    </tr>\n",
       "  </tbody>\n",
       "</table>\n",
       "</div>"
      ],
      "text/plain": [
       "   index                                name     id  minutes  contributor_id  \\\n",
       "7      7  the best  banana bread  or muffins  39363       70           51579   \n",
       "\n",
       "    submitted                                               tags  \\\n",
       "7  2002-09-03  [weeknight, time-to-make, course, main-ingredi...   \n",
       "\n",
       "                                 nutrition  n_steps  \\\n",
       "7  [175.7, 9.0, 65.0, 9.0, 5.0, 18.0, 9.0]       10   \n",
       "\n",
       "                                               steps  \\\n",
       "7  [cream together butter and sugar, blend in egg...   \n",
       "\n",
       "                                         description  \\\n",
       "7  okay, another banana bread recipe...but maybe ...   \n",
       "\n",
       "                                         ingredients  n_ingredients  \\\n",
       "7  [butter, sugar, eggs, bananas, water, baking s...             11   \n",
       "\n",
       "                                              review  \\\n",
       "7  [This is an excellent recipe!!  Everyone loved...   \n",
       "\n",
       "                                  ingredients_string  \\\n",
       "7  butter sugar eggs bananas water baking soda sa...   \n",
       "\n",
       "                                         tags_string  \\\n",
       "7  weeknight time-to-make course main-ingredient ...   \n",
       "\n",
       "                                                soup  \n",
       "7  butter sugar eggs bananas water baking soda sa...  "
      ]
     },
     "execution_count": 192,
     "metadata": {},
     "output_type": "execute_result"
    }
   ],
   "source": [
    "recommend_recipes[recommend_recipes['name']== search_name]"
   ]
  },
  {
   "cell_type": "code",
   "execution_count": 193,
   "metadata": {},
   "outputs": [
    {
     "data": {
      "text/plain": [
       "543                               banana streusel muffins\n",
       "2175                      double chocolate banana muffins\n",
       "6068                                the best banana bread\n",
       "1468     chocolate chocolate chip sour cream banana bread\n",
       "6564                     whole wheat honey banana muffins\n",
       "1890    crispy cinnamon streusel banana nut cream chee...\n",
       "1754                         cranberry banana oat muffins\n",
       "530                                 banana crunch muffins\n",
       "2236                                  easy banana muffins\n",
       "493                                       baklava muffins\n",
       "Name: name, dtype: object"
      ]
     },
     "execution_count": 193,
     "metadata": {},
     "output_type": "execute_result"
    }
   ],
   "source": [
    "get_recommendations(search_name, cosine_sim2)"
   ]
  },
  {
   "cell_type": "markdown",
   "metadata": {},
   "source": [
    "##### Test-3"
   ]
  },
  {
   "cell_type": "code",
   "execution_count": 194,
   "metadata": {},
   "outputs": [],
   "source": [
    "search_name = recommend_recipes[recommend_recipes['index']==34][\"name\"].iloc[0]"
   ]
  },
  {
   "cell_type": "code",
   "execution_count": 195,
   "metadata": {},
   "outputs": [
    {
     "data": {
      "text/plain": [
       "'get up   go  bars'"
      ]
     },
     "execution_count": 195,
     "metadata": {},
     "output_type": "execute_result"
    }
   ],
   "source": [
    "search_name"
   ]
  },
  {
   "cell_type": "code",
   "execution_count": 196,
   "metadata": {},
   "outputs": [],
   "source": [
    "search_ingredients = recommend_recipes[recommend_recipes['name']== search_name]['ingredients'].iloc[0]"
   ]
  },
  {
   "cell_type": "code",
   "execution_count": 197,
   "metadata": {},
   "outputs": [
    {
     "data": {
      "text/plain": [
       "['sugar',\n",
       " 'light corn syrup',\n",
       " 'peanut butter',\n",
       " 'grape-nuts cereal',\n",
       " 'rolled oats',\n",
       " 'sliced almonds',\n",
       " 'dried cranberries']"
      ]
     },
     "execution_count": 197,
     "metadata": {},
     "output_type": "execute_result"
    }
   ],
   "source": [
    "search_ingredients"
   ]
  },
  {
   "cell_type": "code",
   "execution_count": 198,
   "metadata": {},
   "outputs": [
    {
     "data": {
      "text/plain": [
       "4690                    peanut butter marshmallow squares\n",
       "4330                                 no bake granola bars\n",
       "1228                                   chewy granola bars\n",
       "2668                                 funky frito fruckies\n",
       "4747                        perfect peanut butter cookies\n",
       "2846                 grape nuts oatmeal cranberry cookies\n",
       "6424    vegan peanut butter chocolate chip oatmeal coo...\n",
       "4206        mud cookies   aka   chocolate no bake cookies\n",
       "4329                                no bake fudge cookies\n",
       "3971             mars bars rice krispies squares  no bake\n",
       "Name: name, dtype: object"
      ]
     },
     "execution_count": 198,
     "metadata": {},
     "output_type": "execute_result"
    }
   ],
   "source": [
    "get_recommendations(search_name, cosine_sim2)"
   ]
  },
  {
   "cell_type": "markdown",
   "metadata": {},
   "source": [
    "##### Test-4"
   ]
  },
  {
   "cell_type": "code",
   "execution_count": 199,
   "metadata": {},
   "outputs": [],
   "source": [
    "search_name = recommend_recipes[recommend_recipes['index']==3644][\"name\"].iloc[0]"
   ]
  },
  {
   "cell_type": "code",
   "execution_count": 200,
   "metadata": {},
   "outputs": [
    {
     "data": {
      "text/plain": [
       "'kiwi quick bread'"
      ]
     },
     "execution_count": 200,
     "metadata": {},
     "output_type": "execute_result"
    }
   ],
   "source": [
    "search_name"
   ]
  },
  {
   "cell_type": "code",
   "execution_count": 201,
   "metadata": {},
   "outputs": [],
   "source": [
    "search_ingredients = recommend_recipes[recommend_recipes['name']== search_name]['ingredients'].iloc[0]"
   ]
  },
  {
   "cell_type": "code",
   "execution_count": 202,
   "metadata": {},
   "outputs": [
    {
     "data": {
      "text/plain": [
       "['all-purpose flour',\n",
       " 'baking powder',\n",
       " 'baking soda',\n",
       " 'salt',\n",
       " 'butter',\n",
       " 'sugar',\n",
       " 'eggs',\n",
       " 'kiwi fruit']"
      ]
     },
     "execution_count": 202,
     "metadata": {},
     "output_type": "execute_result"
    }
   ],
   "source": [
    "search_ingredients"
   ]
  },
  {
   "cell_type": "code",
   "execution_count": 203,
   "metadata": {},
   "outputs": [
    {
     "data": {
      "text/plain": [
       "1890    crispy cinnamon streusel banana nut cream chee...\n",
       "3867                                 low fat banana bread\n",
       "2175                      double chocolate banana muffins\n",
       "543                               banana streusel muffins\n",
       "2614                  fresh plum or peach cobbler muffins\n",
       "4786                     pineapple and sour cream muffins\n",
       "7                      the best  banana bread  or muffins\n",
       "675                                     best banana bread\n",
       "4131                            moist banana walnut bread\n",
       "837                                blueberry pudding loaf\n",
       "Name: name, dtype: object"
      ]
     },
     "execution_count": 203,
     "metadata": {},
     "output_type": "execute_result"
    }
   ],
   "source": [
    "get_recommendations(search_name, cosine_sim2)"
   ]
  },
  {
   "cell_type": "markdown",
   "metadata": {},
   "source": [
    "##### Test-5"
   ]
  },
  {
   "cell_type": "code",
   "execution_count": 212,
   "metadata": {},
   "outputs": [],
   "source": [
    "search_name = recommend_recipes[recommend_recipes['index']==6389][\"name\"].iloc[0]"
   ]
  },
  {
   "cell_type": "code",
   "execution_count": 213,
   "metadata": {},
   "outputs": [
    {
     "data": {
      "text/plain": [
       "'v s grilled jerk pork tenderloin and pineapple mango kiwi salsa'"
      ]
     },
     "execution_count": 213,
     "metadata": {},
     "output_type": "execute_result"
    }
   ],
   "source": [
    "search_name"
   ]
  },
  {
   "cell_type": "code",
   "execution_count": 214,
   "metadata": {},
   "outputs": [],
   "source": [
    "search_ingredients = recommend_recipes[recommend_recipes['name']== search_name]['ingredients'].iloc[0]"
   ]
  },
  {
   "cell_type": "code",
   "execution_count": 215,
   "metadata": {},
   "outputs": [
    {
     "data": {
      "text/plain": [
       "['pork tenderloin',\n",
       " 'onion',\n",
       " 'scallion',\n",
       " 'fresh thyme leave',\n",
       " 'garlic cloves',\n",
       " 'fresh orange juice',\n",
       " 'fresh lime juice',\n",
       " 'scotch bonnet peppers',\n",
       " 'fresh ginger',\n",
       " 'ground coriander',\n",
       " 'fresh ground black pepper',\n",
       " 'ground allspice',\n",
       " 'cumin',\n",
       " 'salt',\n",
       " 'ground nutmeg',\n",
       " 'ground cinnamon',\n",
       " 'fresh pineapple',\n",
       " 'fresh mango',\n",
       " 'kiwi',\n",
       " 'purple onion',\n",
       " 'fresh cilantro',\n",
       " 'lime juice',\n",
       " 'rum',\n",
       " 'jalapenos']"
      ]
     },
     "execution_count": 215,
     "metadata": {},
     "output_type": "execute_result"
    }
   ],
   "source": [
    "search_ingredients"
   ]
  },
  {
   "cell_type": "code",
   "execution_count": 216,
   "metadata": {},
   "outputs": [
    {
     "data": {
      "text/plain": [
       "3415    jerk turkey slow cooker soup from weight watchers\n",
       "4338                                  nogales steak tacos\n",
       "3767                                           lentil dal\n",
       "5846     stuffed pork tenderloin with cilantro lime pesto\n",
       "1707                                  costa rican tilapia\n",
       "2897                           grilled balsamic asparagus\n",
       "2909                                grilled chicken tikka\n",
       "308                                   avocado mango salsa\n",
       "3389                                     jamaican carrots\n",
       "5249         romaine lettuce salad with cilantro dressing\n",
       "Name: name, dtype: object"
      ]
     },
     "execution_count": 216,
     "metadata": {},
     "output_type": "execute_result"
    }
   ],
   "source": [
    "get_recommendations(search_name, cosine_sim2)"
   ]
  },
  {
   "cell_type": "markdown",
   "metadata": {},
   "source": [
    "#### Recommender using description. (then test with tags, and reviews and ingredients)"
   ]
  },
  {
   "cell_type": "code",
   "execution_count": 40,
   "metadata": {},
   "outputs": [
    {
     "data": {
      "text/plain": [
       "(6699, 10698)"
      ]
     },
     "execution_count": 40,
     "metadata": {},
     "output_type": "execute_result"
    }
   ],
   "source": [
    "#Import TfIdfVectorizer from scikit-learn\n",
    "from sklearn.feature_extraction.text import TfidfVectorizer\n",
    "\n",
    "#Define a TF-IDF Vectorizer Object. Remove all english stop words such as 'the', 'a'\n",
    "tfidf = TfidfVectorizer(stop_words='english')\n",
    "\n",
    "#Replace NaN with an empty string\n",
    "recipes_description = recipes['description'].fillna('')\n",
    "\n",
    "#Construct the required TF-IDF matrix by fitting and transforming the data\n",
    "tfidf_matrix = tfidf.fit_transform(recipes_description)\n",
    "\n",
    "#Output the shape of tfidf_matrix\n",
    "tfidf_matrix.shape"
   ]
  },
  {
   "cell_type": "code",
   "execution_count": 74,
   "metadata": {},
   "outputs": [
    {
     "data": {
      "text/plain": [
       "['oma',\n",
       " 'omega',\n",
       " 'omegas',\n",
       " 'omelet',\n",
       " 'omelets',\n",
       " 'omelette',\n",
       " 'omelettes',\n",
       " 'omg',\n",
       " 'omgosh',\n",
       " 'omit']"
      ]
     },
     "execution_count": 74,
     "metadata": {},
     "output_type": "execute_result"
    }
   ],
   "source": [
    "tfidf.get_feature_names()[6700:6710]"
   ]
  },
  {
   "cell_type": "code",
   "execution_count": 75,
   "metadata": {},
   "outputs": [],
   "source": [
    "# Import linear_kernel\n",
    "from sklearn.metrics.pairwise import linear_kernel\n",
    "\n",
    "# Compute the cosine similarity matrix\n",
    "cosine_sim = linear_kernel(tfidf_matrix, tfidf_matrix)"
   ]
  },
  {
   "cell_type": "code",
   "execution_count": 76,
   "metadata": {},
   "outputs": [
    {
     "data": {
      "text/plain": [
       "(6699, 6699)"
      ]
     },
     "execution_count": 76,
     "metadata": {},
     "output_type": "execute_result"
    }
   ],
   "source": [
    "cosine_sim.shape"
   ]
  },
  {
   "cell_type": "code",
   "execution_count": 77,
   "metadata": {},
   "outputs": [],
   "source": [
    "#Construct a reverse map of indices and movie titles\n",
    "indices = pd.Series(recipes.index, index=recipes['name']).drop_duplicates()"
   ]
  },
  {
   "cell_type": "code",
   "execution_count": 78,
   "metadata": {},
   "outputs": [
    {
     "data": {
      "text/plain": [
       "name\n",
       "chile rellenos                                              0\n",
       "how i got my family to eat spinach  spinach casserole       1\n",
       "immoral  sandwich filling  loose meat                       2\n",
       "land of nod  cinnamon buns                                  3\n",
       "never weep  whipped cream                                   4\n",
       "                                                         ... \n",
       "zucchini salsa  canned                                   6694\n",
       "zucchini they will eat                                   6695\n",
       "zucchini pepper relish                                   6696\n",
       "zuppa toscana soup   olive garden clone                  6697\n",
       "zurie s overnight no knead bread                         6698\n",
       "Length: 6699, dtype: int64"
      ]
     },
     "execution_count": 78,
     "metadata": {},
     "output_type": "execute_result"
    }
   ],
   "source": [
    "indices"
   ]
  },
  {
   "cell_type": "code",
   "execution_count": 79,
   "metadata": {},
   "outputs": [],
   "source": [
    "# Function that takes in movie title as input and outputs most similar movies\n",
    "def get_recommendations(name, cosine_sim=cosine_sim):\n",
    "    # Get the index of the movie that matches the title\n",
    "    idx = indices[name]\n",
    "\n",
    "    # Get the pairwsie similarity scores of all movies with that movie\n",
    "    sim_scores = list(enumerate(cosine_sim[idx]))\n",
    "\n",
    "    # Sort the movies based on the similarity scores\n",
    "    sim_scores = sorted(sim_scores, key=lambda x: x[1], reverse=True)\n",
    "\n",
    "    # Get the scores of the 10 most similar movies\n",
    "    sim_scores = sim_scores[1:11]\n",
    "\n",
    "    # Get the movie indices\n",
    "    recipe_indices = [i[0] for i in sim_scores]\n",
    "\n",
    "    # Return the top 10 most similar movies\n",
    "    return recipes['name'].iloc[recipe_indices]"
   ]
  },
  {
   "cell_type": "code",
   "execution_count": 80,
   "metadata": {},
   "outputs": [],
   "source": [
    "#recommend = get_recommendations('zucchini salsa  canned')\n",
    "\n",
    "recommend = get_recommendations('stroganoff')"
   ]
  },
  {
   "cell_type": "code",
   "execution_count": 81,
   "metadata": {},
   "outputs": [
    {
     "data": {
      "text/plain": [
       "6691                                zucchini pancakes\n",
       "5716           spinach delight   lana s spinach salad\n",
       "4206    mud cookies   aka   chocolate no bake cookies\n",
       "3980                            mary s zucchini bread\n",
       "4314                     no bake vanilla orange balls\n",
       "3332                                  island kielbasa\n",
       "1771                          cranberry orange relish\n",
       "6684                           zucchini coconut bread\n",
       "3952                     maria s best crock pot roast\n",
       "2259                         easy chocolate chip cake\n",
       "Name: name, dtype: object"
      ]
     },
     "execution_count": 81,
     "metadata": {},
     "output_type": "execute_result"
    }
   ],
   "source": [
    "recommend"
   ]
  },
  {
   "cell_type": "code",
   "execution_count": 407,
   "metadata": {},
   "outputs": [
    {
     "data": {
      "text/html": [
       "<div>\n",
       "<style scoped>\n",
       "    .dataframe tbody tr th:only-of-type {\n",
       "        vertical-align: middle;\n",
       "    }\n",
       "\n",
       "    .dataframe tbody tr th {\n",
       "        vertical-align: top;\n",
       "    }\n",
       "\n",
       "    .dataframe thead th {\n",
       "        text-align: right;\n",
       "    }\n",
       "</style>\n",
       "<table border=\"1\" class=\"dataframe\">\n",
       "  <thead>\n",
       "    <tr style=\"text-align: right;\">\n",
       "      <th></th>\n",
       "      <th>index</th>\n",
       "      <th>name</th>\n",
       "      <th>id</th>\n",
       "      <th>minutes</th>\n",
       "      <th>contributor_id</th>\n",
       "      <th>submitted</th>\n",
       "      <th>tags</th>\n",
       "      <th>nutrition</th>\n",
       "      <th>n_steps</th>\n",
       "      <th>steps</th>\n",
       "      <th>description</th>\n",
       "      <th>ingredients</th>\n",
       "      <th>n_ingredients</th>\n",
       "    </tr>\n",
       "  </thead>\n",
       "  <tbody>\n",
       "    <tr>\n",
       "      <th>6691</th>\n",
       "      <td>231284</td>\n",
       "      <td>zucchini pancakes</td>\n",
       "      <td>16702</td>\n",
       "      <td>35</td>\n",
       "      <td>27416</td>\n",
       "      <td>2002-01-04</td>\n",
       "      <td>['60-minutes-or-less', 'time-to-make', 'course...</td>\n",
       "      <td>[363.0, 41.0, 9.0, 34.0, 19.0, 51.0, 7.0]</td>\n",
       "      <td>16</td>\n",
       "      <td>['wash and shred zucchini on a fine shredder',...</td>\n",
       "      <td>this is a great vegetarian pancake, easy to ma...</td>\n",
       "      <td>['fresh zucchini', 'eggs', 'all-purpose flour'...</td>\n",
       "      <td>8</td>\n",
       "    </tr>\n",
       "    <tr>\n",
       "      <th>5716</th>\n",
       "      <td>197693</td>\n",
       "      <td>spinach delight   lana s spinach salad</td>\n",
       "      <td>95532</td>\n",
       "      <td>20</td>\n",
       "      <td>129078</td>\n",
       "      <td>2004-07-13</td>\n",
       "      <td>['30-minutes-or-less', 'time-to-make', 'course...</td>\n",
       "      <td>[475.8, 53.0, 87.0, 36.0, 19.0, 35.0, 11.0]</td>\n",
       "      <td>3</td>\n",
       "      <td>['mix dressing ingredients together in jar', '...</td>\n",
       "      <td>this is my favorite salad. this is easy to put...</td>\n",
       "      <td>['fresh spinach', 'bean sprouts', 'hard-boiled...</td>\n",
       "      <td>12</td>\n",
       "    </tr>\n",
       "    <tr>\n",
       "      <th>4206</th>\n",
       "      <td>140248</td>\n",
       "      <td>mud cookies   aka   chocolate no bake cookies</td>\n",
       "      <td>158428</td>\n",
       "      <td>7</td>\n",
       "      <td>153824</td>\n",
       "      <td>2006-03-03</td>\n",
       "      <td>['15-minutes-or-less', 'time-to-make', 'course...</td>\n",
       "      <td>[178.4, 11.0, 69.0, 2.0, 6.0, 16.0, 8.0]</td>\n",
       "      <td>9</td>\n",
       "      <td>['combine butter , cocoa , sugar , and milk in...</td>\n",
       "      <td>this is a childhood favorite my mother use to ...</td>\n",
       "      <td>['sugar', 'butter', 'cocoa', 'evaporated milk'...</td>\n",
       "      <td>7</td>\n",
       "    </tr>\n",
       "    <tr>\n",
       "      <th>3980</th>\n",
       "      <td>131666</td>\n",
       "      <td>mary s zucchini bread</td>\n",
       "      <td>22524</td>\n",
       "      <td>80</td>\n",
       "      <td>8688</td>\n",
       "      <td>2002-03-14</td>\n",
       "      <td>['weeknight', 'time-to-make', 'course', 'prepa...</td>\n",
       "      <td>[231.2, 17.0, 68.0, 7.0, 6.0, 8.0, 10.0]</td>\n",
       "      <td>6</td>\n",
       "      <td>['place eggs , oil , zucchini and vanilla extr...</td>\n",
       "      <td>this is my mother-in-law's favorite recipe and...</td>\n",
       "      <td>['eggs', 'vegetable oil', 'zucchini', 'vanilla...</td>\n",
       "      <td>11</td>\n",
       "    </tr>\n",
       "    <tr>\n",
       "      <th>4314</th>\n",
       "      <td>144131</td>\n",
       "      <td>no bake vanilla orange balls</td>\n",
       "      <td>15416</td>\n",
       "      <td>15</td>\n",
       "      <td>22015</td>\n",
       "      <td>2001-12-07</td>\n",
       "      <td>['15-minutes-or-less', 'time-to-make', 'course...</td>\n",
       "      <td>[169.6, 6.0, 85.0, 2.0, 2.0, 4.0, 10.0]</td>\n",
       "      <td>7</td>\n",
       "      <td>['mix crushed wafers with sugar', 'add melted ...</td>\n",
       "      <td>this is a holiday favorite from my mother. she...</td>\n",
       "      <td>['vanilla wafers', 'powdered sugar', 'oleo', '...</td>\n",
       "      <td>6</td>\n",
       "    </tr>\n",
       "    <tr>\n",
       "      <th>3332</th>\n",
       "      <td>112079</td>\n",
       "      <td>island kielbasa</td>\n",
       "      <td>23779</td>\n",
       "      <td>310</td>\n",
       "      <td>31695</td>\n",
       "      <td>2002-03-28</td>\n",
       "      <td>['weeknight', 'time-to-make', 'course', 'main-...</td>\n",
       "      <td>[555.2, 47.0, 209.0, 70.0, 30.0, 52.0, 18.0]</td>\n",
       "      <td>4</td>\n",
       "      <td>['slice kielbasa into 1 / 2 inch slices and pl...</td>\n",
       "      <td>my mother gave this recipe to me and it's a qu...</td>\n",
       "      <td>['kielbasa', 'ketchup', 'brown sugar', 'pineap...</td>\n",
       "      <td>4</td>\n",
       "    </tr>\n",
       "    <tr>\n",
       "      <th>1771</th>\n",
       "      <td>61177</td>\n",
       "      <td>cranberry orange relish</td>\n",
       "      <td>47913</td>\n",
       "      <td>10</td>\n",
       "      <td>59687</td>\n",
       "      <td>2002-12-08</td>\n",
       "      <td>['15-minutes-or-less', 'time-to-make', 'course...</td>\n",
       "      <td>[84.3, 0.0, 75.0, 0.0, 0.0, 0.0, 7.0]</td>\n",
       "      <td>5</td>\n",
       "      <td>['wash and drain cranberries', 'wash and quart...</td>\n",
       "      <td>wonderful for thanksgiving or christmas to ser...</td>\n",
       "      <td>['fresh cranberries', 'orange', 'sugar', 'apple']</td>\n",
       "      <td>4</td>\n",
       "    </tr>\n",
       "    <tr>\n",
       "      <th>6684</th>\n",
       "      <td>231116</td>\n",
       "      <td>zucchini coconut bread</td>\n",
       "      <td>15826</td>\n",
       "      <td>100</td>\n",
       "      <td>20159</td>\n",
       "      <td>2001-12-15</td>\n",
       "      <td>['weeknight', 'time-to-make', 'course', 'main-...</td>\n",
       "      <td>[233.2, 17.0, 74.0, 7.0, 5.0, 13.0, 10.0]</td>\n",
       "      <td>6</td>\n",
       "      <td>['preheat oven to 325 degree f', 'grease 2 loa...</td>\n",
       "      <td>my mother-in-law's best zucchini bread ...coco...</td>\n",
       "      <td>['all-purpose flour', 'white sugar', 'baking p...</td>\n",
       "      <td>12</td>\n",
       "    </tr>\n",
       "    <tr>\n",
       "      <th>3952</th>\n",
       "      <td>130656</td>\n",
       "      <td>maria s best crock pot roast</td>\n",
       "      <td>34087</td>\n",
       "      <td>490</td>\n",
       "      <td>44372</td>\n",
       "      <td>2002-07-15</td>\n",
       "      <td>['weeknight', 'time-to-make', 'course', 'main-...</td>\n",
       "      <td>[387.6, 31.0, 0.0, 24.0, 100.0, 28.0, 0.0]</td>\n",
       "      <td>5</td>\n",
       "      <td>['using a sharp , thin knife , create deep hol...</td>\n",
       "      <td>my mother in law makes a mean roast. this is a...</td>\n",
       "      <td>['beef roast', 'bacon', 'garlic cloves', 'sea ...</td>\n",
       "      <td>10</td>\n",
       "    </tr>\n",
       "    <tr>\n",
       "      <th>2259</th>\n",
       "      <td>75863</td>\n",
       "      <td>easy chocolate chip cake</td>\n",
       "      <td>47627</td>\n",
       "      <td>50</td>\n",
       "      <td>57828</td>\n",
       "      <td>2002-11-24</td>\n",
       "      <td>['60-minutes-or-less', 'time-to-make', 'course...</td>\n",
       "      <td>[409.6, 21.0, 200.0, 11.0, 10.0, 30.0, 23.0]</td>\n",
       "      <td>8</td>\n",
       "      <td>['pour water over oatmeal and let stand for 10...</td>\n",
       "      <td>my mother used to make this recipe whenever we...</td>\n",
       "      <td>['boiling water', 'quick-cooking oats', 'brown...</td>\n",
       "      <td>11</td>\n",
       "    </tr>\n",
       "  </tbody>\n",
       "</table>\n",
       "</div>"
      ],
      "text/plain": [
       "       index                                           name      id  minutes  \\\n",
       "6691  231284                              zucchini pancakes   16702       35   \n",
       "5716  197693         spinach delight   lana s spinach salad   95532       20   \n",
       "4206  140248  mud cookies   aka   chocolate no bake cookies  158428        7   \n",
       "3980  131666                          mary s zucchini bread   22524       80   \n",
       "4314  144131                   no bake vanilla orange balls   15416       15   \n",
       "3332  112079                                island kielbasa   23779      310   \n",
       "1771   61177                        cranberry orange relish   47913       10   \n",
       "6684  231116                         zucchini coconut bread   15826      100   \n",
       "3952  130656                   maria s best crock pot roast   34087      490   \n",
       "2259   75863                       easy chocolate chip cake   47627       50   \n",
       "\n",
       "      contributor_id   submitted  \\\n",
       "6691           27416  2002-01-04   \n",
       "5716          129078  2004-07-13   \n",
       "4206          153824  2006-03-03   \n",
       "3980            8688  2002-03-14   \n",
       "4314           22015  2001-12-07   \n",
       "3332           31695  2002-03-28   \n",
       "1771           59687  2002-12-08   \n",
       "6684           20159  2001-12-15   \n",
       "3952           44372  2002-07-15   \n",
       "2259           57828  2002-11-24   \n",
       "\n",
       "                                                   tags  \\\n",
       "6691  ['60-minutes-or-less', 'time-to-make', 'course...   \n",
       "5716  ['30-minutes-or-less', 'time-to-make', 'course...   \n",
       "4206  ['15-minutes-or-less', 'time-to-make', 'course...   \n",
       "3980  ['weeknight', 'time-to-make', 'course', 'prepa...   \n",
       "4314  ['15-minutes-or-less', 'time-to-make', 'course...   \n",
       "3332  ['weeknight', 'time-to-make', 'course', 'main-...   \n",
       "1771  ['15-minutes-or-less', 'time-to-make', 'course...   \n",
       "6684  ['weeknight', 'time-to-make', 'course', 'main-...   \n",
       "3952  ['weeknight', 'time-to-make', 'course', 'main-...   \n",
       "2259  ['60-minutes-or-less', 'time-to-make', 'course...   \n",
       "\n",
       "                                         nutrition  n_steps  \\\n",
       "6691     [363.0, 41.0, 9.0, 34.0, 19.0, 51.0, 7.0]       16   \n",
       "5716   [475.8, 53.0, 87.0, 36.0, 19.0, 35.0, 11.0]        3   \n",
       "4206      [178.4, 11.0, 69.0, 2.0, 6.0, 16.0, 8.0]        9   \n",
       "3980      [231.2, 17.0, 68.0, 7.0, 6.0, 8.0, 10.0]        6   \n",
       "4314       [169.6, 6.0, 85.0, 2.0, 2.0, 4.0, 10.0]        7   \n",
       "3332  [555.2, 47.0, 209.0, 70.0, 30.0, 52.0, 18.0]        4   \n",
       "1771         [84.3, 0.0, 75.0, 0.0, 0.0, 0.0, 7.0]        5   \n",
       "6684     [233.2, 17.0, 74.0, 7.0, 5.0, 13.0, 10.0]        6   \n",
       "3952    [387.6, 31.0, 0.0, 24.0, 100.0, 28.0, 0.0]        5   \n",
       "2259  [409.6, 21.0, 200.0, 11.0, 10.0, 30.0, 23.0]        8   \n",
       "\n",
       "                                                  steps  \\\n",
       "6691  ['wash and shred zucchini on a fine shredder',...   \n",
       "5716  ['mix dressing ingredients together in jar', '...   \n",
       "4206  ['combine butter , cocoa , sugar , and milk in...   \n",
       "3980  ['place eggs , oil , zucchini and vanilla extr...   \n",
       "4314  ['mix crushed wafers with sugar', 'add melted ...   \n",
       "3332  ['slice kielbasa into 1 / 2 inch slices and pl...   \n",
       "1771  ['wash and drain cranberries', 'wash and quart...   \n",
       "6684  ['preheat oven to 325 degree f', 'grease 2 loa...   \n",
       "3952  ['using a sharp , thin knife , create deep hol...   \n",
       "2259  ['pour water over oatmeal and let stand for 10...   \n",
       "\n",
       "                                            description  \\\n",
       "6691  this is a great vegetarian pancake, easy to ma...   \n",
       "5716  this is my favorite salad. this is easy to put...   \n",
       "4206  this is a childhood favorite my mother use to ...   \n",
       "3980  this is my mother-in-law's favorite recipe and...   \n",
       "4314  this is a holiday favorite from my mother. she...   \n",
       "3332  my mother gave this recipe to me and it's a qu...   \n",
       "1771  wonderful for thanksgiving or christmas to ser...   \n",
       "6684  my mother-in-law's best zucchini bread ...coco...   \n",
       "3952  my mother in law makes a mean roast. this is a...   \n",
       "2259  my mother used to make this recipe whenever we...   \n",
       "\n",
       "                                            ingredients  n_ingredients  \n",
       "6691  ['fresh zucchini', 'eggs', 'all-purpose flour'...              8  \n",
       "5716  ['fresh spinach', 'bean sprouts', 'hard-boiled...             12  \n",
       "4206  ['sugar', 'butter', 'cocoa', 'evaporated milk'...              7  \n",
       "3980  ['eggs', 'vegetable oil', 'zucchini', 'vanilla...             11  \n",
       "4314  ['vanilla wafers', 'powdered sugar', 'oleo', '...              6  \n",
       "3332  ['kielbasa', 'ketchup', 'brown sugar', 'pineap...              4  \n",
       "1771  ['fresh cranberries', 'orange', 'sugar', 'apple']              4  \n",
       "6684  ['all-purpose flour', 'white sugar', 'baking p...             12  \n",
       "3952  ['beef roast', 'bacon', 'garlic cloves', 'sea ...             10  \n",
       "2259  ['boiling water', 'quick-cooking oats', 'brown...             11  "
      ]
     },
     "execution_count": 407,
     "metadata": {},
     "output_type": "execute_result"
    }
   ],
   "source": [
    "recipes.iloc[recommend.index]"
   ]
  },
  {
   "cell_type": "markdown",
   "metadata": {},
   "source": [
    "## WordClouds"
   ]
  },
  {
   "cell_type": "code",
   "execution_count": 55,
   "metadata": {},
   "outputs": [],
   "source": [
    "df = raw_recipes.description"
   ]
  },
  {
   "cell_type": "code",
   "execution_count": 54,
   "metadata": {},
   "outputs": [],
   "source": [
    "# Start with loading all necessary libraries\n",
    "import numpy as np\n",
    "import pandas as pd\n",
    "from os import path\n",
    "from PIL import Image\n",
    "from wordcloud import WordCloud, STOPWORDS, ImageColorGenerator\n",
    "\n",
    "import matplotlib.pyplot as plt\n"
   ]
  },
  {
   "cell_type": "code",
   "execution_count": 57,
   "metadata": {},
   "outputs": [
    {
     "name": "stdout",
     "output_type": "stream",
     "text": [
      "There are 1132367 observations and 5 features in this dataset. \n",
      "\n"
     ]
    }
   ],
   "source": [
    "print(\"There are {} observations and {} features in this dataset. \\n\".format(raw_interactions.shape[0],raw_interactions.shape[1]))\n",
    "\n"
   ]
  },
  {
   "cell_type": "code",
   "execution_count": 70,
   "metadata": {},
   "outputs": [
    {
     "data": {
      "image/png": "[encoded data removed]",
      "text/plain": [
       "<Figure size 432x288 with 1 Axes>"
      ]
     },
     "metadata": {
      "needs_background": "light"
     },
     "output_type": "display_data"
    }
   ],
   "source": [
    "# Start with one review:\n",
    "text = raw_interactions.review[4142]\n",
    "\n",
    "# Create and generate a word cloud image:\n",
    "wordcloud = WordCloud().generate(text)\n",
    "\n",
    "# Display the generated image:\n",
    "plt.imshow(wordcloud, interpolation='bilinear')\n",
    "plt.axis(\"off\")\n",
    "plt.show()"
   ]
  },
  {
   "cell_type": "code",
   "execution_count": 62,
   "metadata": {},
   "outputs": [
    {
     "data": {
      "image/png": "[encoded data removed]",
      "text/plain": [
       "<Figure size 432x288 with 1 Axes>"
      ]
     },
     "metadata": {
      "needs_background": "light"
     },
     "output_type": "display_data"
    }
   ],
   "source": [
    "# lower max_font_size, change the maximum number of word and lighten the background:\n",
    "wordcloud = WordCloud(max_words=100, background_color=\"white\").generate(text)\n",
    "plt.figure()\n",
    "plt.imshow(wordcloud, interpolation=\"bilinear\")\n",
    "plt.axis(\"off\")\n",
    "plt.show()"
   ]
  },
  {
   "cell_type": "code",
   "execution_count": 160,
   "metadata": {},
   "outputs": [
    {
     "name": "stdout",
     "output_type": "stream",
     "text": [
      "There are 45550662 words in the combination of all review.\n"
     ]
    }
   ],
   "source": [
    "text = \" \".join(str(review) for review in raw_recipes.description)\n",
    "print (\"There are {} words in the combination of all review.\".format(len(text)))"
   ]
  },
  {
   "cell_type": "code",
   "execution_count": 161,
   "metadata": {},
   "outputs": [],
   "source": [
    "# Create stopword list:\n",
    "stopwords = set(STOPWORDS)\n",
    "stopwords.update([\"made\", \"make\", \"added\", \"used\", \"thing\", \"makes\", \"use\", \"ingredient\", \"always\",\n",
    "                  \"thank\", \"think\", \"thanks\", \"making\", \"really\", \"using\", \"lot\", \"little\", \"posted\",\n",
    "                  \"use\", \"recipe\", 'great', \"good\", \"came\", \"way\", \"come\", \"served\", \"know\", \"even\",\n",
    "                 \"will\", \"next\", \"one\", \"time\", \"taste\", \"tried\", \"well\", \"want\", \"work\", \"yet\", \"cookbook\",\n",
    "                 \"much\", \"add\", \"delicious\", \"dish\", \"flavor\", \"recipes\", \"tried\", \"day\", \"cooking\", \"need\",\n",
    "                  \"another\", \"include\", \"take\", \"find\", \"prep\", \"cut\", \"may\", \"keep\", \"usually\", \"sure\", \"better\",\n",
    "                  \"wonderful\", \"eat\", \"comes\", \"nice\", \"best\", \"years ago\", \"adapted\", \"perfect\",\n",
    "                  \"without\", \"amount\", \"thought\", \"give\", \"tasty\", \"ingredients\",\n",
    "                 \"loved\", \"love\", \"try\", \"enjoy\", \"found\", \"got\", \"serve\", \"cook\"])"
   ]
  },
  {
   "cell_type": "code",
   "execution_count": 162,
   "metadata": {},
   "outputs": [
    {
     "data": {
      "image/png": "[encoded data removed]",
      "text/plain": [
       "<Figure size 432x288 with 1 Axes>"
      ]
     },
     "metadata": {
      "needs_background": "light"
     },
     "output_type": "display_data"
    }
   ],
   "source": [
    "# Generate a word cloud image\n",
    "wordcloud = WordCloud(stopwords=stopwords, background_color=\"white\").generate(text)\n",
    "\n",
    "# Display the generated image:\n",
    "# the matplotlib way:\n",
    "plt.imshow(wordcloud, interpolation='bilinear')\n",
    "plt.axis(\"off\")\n",
    "plt.show()"
   ]
  },
  {
   "cell_type": "code",
   "execution_count": 163,
   "metadata": {},
   "outputs": [
    {
     "name": "stdout",
     "output_type": "stream",
     "text": [
      "There are 59405459 words in the combination of all review.\n"
     ]
    }
   ],
   "source": [
    "text = \" \".join(str(review) for review in raw_recipes.tags)\n",
    "print (\"There are {} words in the combination of all review.\".format(len(text)))"
   ]
  },
  {
   "cell_type": "code",
   "execution_count": 166,
   "metadata": {},
   "outputs": [],
   "source": [
    "# Create stopword list:\n",
    "stopwords = set(STOPWORDS)\n",
    "stopwords.update([\"made\", \"make\", \"added\", \"used\", \"thing\", \"makes\", \"use\", \"ingredient\", \"always\",\n",
    "                  \"thank\", \"think\", \"thanks\", \"making\", \"really\", \"using\", \"lot\", \"little\", \"posted\",\n",
    "                  \"use\", \"recipe\", 'great', \"good\", \"came\", \"way\", \"come\", \"served\", \"know\", \"even\",\n",
    "                 \"will\", \"next\", \"one\", \"time\", \"taste\", \"tried\", \"well\", \"want\", \"work\", \"yet\", \"cookbook\",\n",
    "                 \"much\", \"add\", \"delicious\", \"dish\", \"flavor\", \"recipes\", \"tried\", \"day\", \"cooking\", \"need\",\n",
    "                  \"another\", \"include\", \"take\", \"find\", \"prep\", \"cut\", \"may\", \"keep\", \"usually\", \"sure\", \"better\",\n",
    "                  \"wonderful\", \"eat\", \"comes\", \"nice\", \"best\", \"years ago\", \"adapted\", \"perfect\",\n",
    "                  \"without\", \"amount\", \"thought\", \"give\", \"tasty\", \"ingredients\", \"ingredient\", \"main\", \"make'\",\n",
    "                 \"loved\", \"love\", \"try\", \"enjoy\", \"found\", \"got\", \"serve\", \"cook\"])"
   ]
  },
  {
   "cell_type": "code",
   "execution_count": 167,
   "metadata": {},
   "outputs": [
    {
     "data": {
      "image/png": "[encoded data removed]",
      "text/plain": [
       "<Figure size 432x288 with 1 Axes>"
      ]
     },
     "metadata": {
      "needs_background": "light"
     },
     "output_type": "display_data"
    }
   ],
   "source": [
    "# Generate a word cloud image\n",
    "wordcloud = WordCloud(stopwords=stopwords, background_color=\"white\").generate(text)\n",
    "\n",
    "# Display the generated image:\n",
    "# the matplotlib way:\n",
    "plt.imshow(wordcloud, interpolation='bilinear')\n",
    "plt.axis(\"off\")\n",
    "plt.show()"
   ]
  }
 ],
 "metadata": {
  "kernelspec": {
   "display_name": "Python 3",
   "language": "python",
   "name": "python3"
  },
  "language_info": {
   "codemirror_mode": {
    "name": "ipython",
    "version": 3
   },
   "file_extension": ".py",
   "mimetype": "text/x-python",
   "name": "python",
   "nbconvert_exporter": "python",
   "pygments_lexer": "ipython3",
   "version": "3.8.5"
  }
 },
 "nbformat": 4,
 "nbformat_minor": 4
}
