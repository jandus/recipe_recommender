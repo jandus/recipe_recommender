{
 "cells": [
  {
   "cell_type": "markdown",
   "metadata": {},
   "source": [
    "# Recipe Recommender"
   ]
  },
  {
   "cell_type": "markdown",
   "metadata": {},
   "source": [
    "Creating a Count Vectorizer\n",
    "\n",
    "Calculating Cosine Similarity\n",
    "\n",
    "Making a recommendation"
   ]
  },
  {
   "cell_type": "markdown",
   "metadata": {},
   "source": [
    "#### Import Libraries"
   ]
  },
  {
   "cell_type": "code",
   "execution_count": 1,
   "metadata": {},
   "outputs": [],
   "source": [
    "import numpy as np\n",
    "import pandas as pd\n",
    "\n",
    "from sklearn.feature_extraction.text import CountVectorizer\n",
    "from sklearn.metrics.pairwise import cosine_similarity\n",
    "\n",
    "import matplotlib.pyplot as plt\n",
    "import seaborn as sns\n",
    "\n",
    "from ast import literal_eval\n",
    "\n",
    "from src.modules.feature_engineering import clean_data, create_soup, create_string_feature\n",
    "from src.modules.recommender import get_recommendations, search_recipes\n",
    "\n",
    "import pickle"
   ]
  },
  {
   "cell_type": "markdown",
   "metadata": {},
   "source": [
    "#### Load Data"
   ]
  },
  {
   "cell_type": "code",
   "execution_count": 2,
   "metadata": {},
   "outputs": [],
   "source": [
    "raw_recipes = pd.read_csv('./data/rrecipe_recommender/RAW_recipes.csv')\n",
    "raw_interactions = pd.read_csv('./data/recipe_recommender/RAW_interactions.csv')"
   ]
  },
  {
   "cell_type": "code",
   "execution_count": 3,
   "metadata": {},
   "outputs": [],
   "source": [
    "# Convert strings into python types. CSV has lists saved as strings, with literal_eval we convert that string in lists\n",
    "\n",
    "features = ['tags', 'steps', 'ingredients']\n",
    "for feature in features:\n",
    "    raw_recipes[feature] = raw_recipes[feature].apply(literal_eval)"
   ]
  },
  {
   "cell_type": "markdown",
   "metadata": {},
   "source": [
    "#### Subset of recipes - Get a list of recipes based on rules below\n",
    "- Recipes that have more than 20 ratings\n",
    "- Recipes that have a rating average of 4 or more"
   ]
  },
  {
   "cell_type": "code",
   "execution_count": 4,
   "metadata": {},
   "outputs": [],
   "source": [
    "# Get count of all ratings by recipe id\n",
    "recipe_ratings_cnt = raw_interactions[[\"recipe_id\", \"rating\"]].groupby(\"recipe_id\").count().sort_values('rating', ascending=False).reset_index()\n",
    "recipe_ratings_cnt.columns = [\"id\", \"rating_count\"]\n",
    "\n",
    "# Select only recipes with more than 20 ratings\n",
    "filter = recipe_ratings_cnt['rating_count'] > 20\n",
    "recipe_ratings_cnt = recipe_ratings_cnt[filter]"
   ]
  },
  {
   "cell_type": "code",
   "execution_count": 5,
   "metadata": {},
   "outputs": [],
   "source": [
    "# Get recipes that have ratings of 4 or more\n",
    "recipe_ratings_mean = raw_interactions[raw_interactions[\"recipe_id\"].isin(recipe_ratings_cnt[\"id\"])] \\\n",
    "                [[\"recipe_id\", \"rating\"]].groupby(\"recipe_id\").mean().sort_values('rating', ascending=False).reset_index()\n",
    "recipe_ratings_mean.columns = [\"id\", \"rating_mean\"]\n",
    "\n",
    "# get recipes with more than 20 ratings\n",
    "filter = recipe_ratings_mean['rating_mean'] >= 4\n",
    "recipe_ratings_mean = recipe_ratings_mean[filter]"
   ]
  },
  {
   "cell_type": "code",
   "execution_count": 6,
   "metadata": {},
   "outputs": [],
   "source": [
    "# subset of recipes based on filters\n",
    "recipes = raw_recipes[raw_recipes[\"id\"].isin(recipe_ratings_mean[\"id\"])]\n",
    "recipes = recipes.reset_index(drop=True)"
   ]
  },
  {
   "cell_type": "code",
   "execution_count": 7,
   "metadata": {},
   "outputs": [],
   "source": [
    "# subset of interactions based on filters\n",
    "interactions = raw_interactions[raw_interactions[\"recipe_id\"].isin(recipe_ratings_mean[\"id\"])]\n",
    "interactions = interactions.reset_index(drop=True)"
   ]
  },
  {
   "cell_type": "markdown",
   "metadata": {},
   "source": [
    "#### Group all reviews by recipe id and join with recipes dataframe"
   ]
  },
  {
   "cell_type": "code",
   "execution_count": 8,
   "metadata": {},
   "outputs": [],
   "source": [
    "# group reviews by\n",
    "interactions_group_review = []\n",
    "for (recipe_id, group) in interactions[[\"recipe_id\", \"review\"]].groupby(\"recipe_id\"):\n",
    "    #reviews_tmp = []\n",
    "    reviews_tmp = [review for review in group['review']]\n",
    "    #for review in group[\"review\"]:\n",
    "    #    reviews_tmp.append(review)\n",
    "    interactions_group_review.append([recipe_id, reviews_tmp])\n",
    "    \n",
    "new_interactions = pd.DataFrame(interactions_group_review, columns=[\"id\", \"review\"])"
   ]
  },
  {
   "cell_type": "code",
   "execution_count": 9,
   "metadata": {},
   "outputs": [],
   "source": [
    "# join reviews to recipes\n",
    "recipes = pd.merge(recipes, new_interactions, how=\"left\", on=\"id\")"
   ]
  },
  {
   "cell_type": "markdown",
   "metadata": {},
   "source": [
    "#### Clean data and feature engineering"
   ]
  },
  {
   "cell_type": "code",
   "execution_count": 10,
   "metadata": {},
   "outputs": [],
   "source": [
    "# Copy recipes dataframe to clean and add features\n",
    "recommend_recipes = recipes.copy()"
   ]
  },
  {
   "cell_type": "code",
   "execution_count": 11,
   "metadata": {},
   "outputs": [],
   "source": [
    "# Apply clean_data function to your features.\n",
    "features = ['tags', 'description', 'ingredients']\n",
    "\n",
    "for feature in features:\n",
    "    recommend_recipes[feature] = recommend_recipes[feature].apply(clean_data)"
   ]
  },
  {
   "cell_type": "code",
   "execution_count": 12,
   "metadata": {},
   "outputs": [],
   "source": [
    "# create new column ingredients_string\n",
    "#test = recommend_recipes['soup'] = recommend_recipes.apply(create_string_feature, axis=1)\n",
    "recommend_recipes['ingredients_string'] = recommend_recipes.ingredients.apply(create_string_feature)\n",
    "\n",
    "# create new column tags_string\n",
    "recommend_recipes['tags_string'] = recommend_recipes.tags.apply(create_string_feature)"
   ]
  },
  {
   "cell_type": "code",
   "execution_count": 13,
   "metadata": {},
   "outputs": [],
   "source": [
    "# Create a new soup feature\n",
    "recommend_recipes['soup'] = recommend_recipes.apply(create_soup, axis=1)"
   ]
  },
  {
   "cell_type": "code",
   "execution_count": 14,
   "metadata": {},
   "outputs": [],
   "source": [
    "count = CountVectorizer(stop_words='english')\n",
    "count_matrix = count.fit_transform(recommend_recipes['soup'])\n",
    "\n",
    "\n",
    "\n",
    "# from sklearn.feature_extraction import text \n",
    "\n",
    "# stop_words = text.ENGLISH_STOP_WORDS.union(my_additional_stop_words)\n",
    "# stopwords.update([\"made\", \"make\", \"added\", \"used\", \"thing\", \"makes\", \"use\", \"ingredient\", \"always\",\n",
    "#                   \"thank\", \"think\", \"thanks\", \"making\", \"really\", \"using\", \"lot\", \"little\", \"posted\",\n",
    "#                   \"use\", \"recipe\", 'great', \"good\", \"came\", \"way\", \"come\", \"served\", \"know\", \"even\",\n",
    "#                  \"will\", \"next\", \"one\", \"time\", \"taste\", \"tried\", \"well\", \"want\", \"work\", \"yet\", \"cookbook\",\n",
    "#                  \"much\", \"add\", \"delicious\", \"dish\", \"flavor\", \"recipes\", \"tried\", \"day\", \"cooking\", \"need\",\n",
    "#                   \"another\", \"include\", \"take\", \"find\", \"prep\", \"cut\", \"may\", \"keep\", \"usually\", \"sure\", \"better\",\n",
    "#                   \"wonderful\", \"eat\", \"comes\", \"nice\", \"best\", \"years ago\", \"adapted\", \"perfect\",\n",
    "#                   \"without\", \"amount\", \"thought\", \"give\", \"tasty\", \"ingredients\", \"ingredient\", \"main\", \"make'\",\n",
    "#                  \"loved\", \"love\", \"try\", \"enjoy\", \"found\", \"got\", \"serve\", \"cook\"])\n",
    "\n"
   ]
  },
  {
   "cell_type": "code",
   "execution_count": 15,
   "metadata": {},
   "outputs": [],
   "source": [
    "# Reset index of your main DataFrame and construct reverse mapping as before\n",
    "recommend_recipes =recommend_recipes.reset_index()\n",
    "indices = pd.Series(recommend_recipes.index, index=recommend_recipes['name'])"
   ]
  },
  {
   "cell_type": "markdown",
   "metadata": {},
   "source": [
    "#### Calculate cosine similarity"
   ]
  },
  {
   "cell_type": "code",
   "execution_count": 16,
   "metadata": {},
   "outputs": [],
   "source": [
    "cosine_sim = cosine_similarity(count_matrix, count_matrix)"
   ]
  },
  {
   "cell_type": "markdown",
   "metadata": {},
   "source": [
    "#### Save files"
   ]
  },
  {
   "cell_type": "code",
   "execution_count": 17,
   "metadata": {},
   "outputs": [],
   "source": [
    "# save the model to disk\n",
    "filename = 'models/content-based_filtering/cosine_sim_recipes.pickle'\n",
    "pickle.dump(cosine_sim, open(filename, 'wb'))"
   ]
  },
  {
   "cell_type": "code",
   "execution_count": 52,
   "metadata": {},
   "outputs": [],
   "source": [
    "recommend_recipes.to_csv('./data/recipe_recommender/recommend_recipes.csv',index=False)\n",
    "indices.to_csv('./data/recipe_recommender/indices.csv')"
   ]
  },
  {
   "cell_type": "markdown",
   "metadata": {},
   "source": [
    "##### Search for ingredients in recipes"
   ]
  },
  {
   "cell_type": "code",
   "execution_count": 29,
   "metadata": {},
   "outputs": [
    {
     "name": "stdout",
     "output_type": "stream",
     "text": [
      "Ingredients:  37\n",
      "Tags:  37\n"
     ]
    }
   ],
   "source": [
    "pd.set_option('max_colwidth', 1000)\n",
    "features_list = [\"\", \"\"]\n",
    "new_recipes, only_ingredients = search_recipes(recommend_recipes, \"cauliflower\", features_list)"
   ]
  },
  {
   "cell_type": "code",
   "execution_count": 30,
   "metadata": {},
   "outputs": [
    {
     "name": "stdout",
     "output_type": "stream",
     "text": [
      "37\n",
      "37\n"
     ]
    }
   ],
   "source": [
    "print(len(only_ingredients))\n",
    "print(len(new_recipes))"
   ]
  },
  {
   "cell_type": "code",
   "execution_count": 31,
   "metadata": {
    "collapsed": true,
    "jupyter": {
     "outputs_hidden": true
    }
   },
   "outputs": [
    {
     "name": "stdout",
     "output_type": "stream",
     "text": [
      "With all characteristics\n",
      "<class 'pandas.core.frame.DataFrame'>\n"
     ]
    },
    {
     "data": {
      "text/html": [
       "<div>\n",
       "<style scoped>\n",
       "    .dataframe tbody tr th:only-of-type {\n",
       "        vertical-align: middle;\n",
       "    }\n",
       "\n",
       "    .dataframe tbody tr th {\n",
       "        vertical-align: top;\n",
       "    }\n",
       "\n",
       "    .dataframe thead th {\n",
       "        text-align: right;\n",
       "    }\n",
       "</style>\n",
       "<table border=\"1\" class=\"dataframe\">\n",
       "  <thead>\n",
       "    <tr style=\"text-align: right;\">\n",
       "      <th></th>\n",
       "      <th>index</th>\n",
       "      <th>name</th>\n",
       "      <th>id</th>\n",
       "      <th>minutes</th>\n",
       "      <th>contributor_id</th>\n",
       "      <th>submitted</th>\n",
       "      <th>tags</th>\n",
       "      <th>nutrition</th>\n",
       "      <th>n_steps</th>\n",
       "      <th>steps</th>\n",
       "      <th>description</th>\n",
       "      <th>ingredients</th>\n",
       "      <th>n_ingredients</th>\n",
       "      <th>review</th>\n",
       "      <th>ingredients_string</th>\n",
       "      <th>tags_string</th>\n",
       "      <th>soup</th>\n",
       "    </tr>\n",
       "  </thead>\n",
       "  <tbody>\n",
       "    <tr>\n",
       "      <th>147</th>\n",
       "      <td>147</td>\n",
       "      <td>aloo gobi</td>\n",
       "      <td>84324</td>\n",
       "      <td>60</td>\n",
       "      <td>124813</td>\n",
       "      <td>2004-02-18</td>\n",
       "      <td>[curries, 60-minutes-or-less, time-to-make, course, main-ingredient, cuisine, preparation, main-dish, vegetables, asian, indian, vegetarian, dietary, cauliflower]</td>\n",
       "      <td>[215.9, 11.0, 22.0, 13.0, 11.0, 5.0, 11.0]</td>\n",
       "      <td>13</td>\n",
       "      <td>[heat vegetable oil in a large saucepan, add the chopped onion and one teaspoon of cumin seeds to the oil, stir together and cook until onions become creamy , golden , and translucent, add chopped coriander stalks , two teaspoons of turmeric , and one teaspoon of salt, add chopped chillis stir tomatoes into onion mixture, add ginger and garlic, mix thoroughly, add potatoes and cauliflower to the sauce plus a few tablespoons of water, ensure that the potatoes and cauliflower are coated with the curry sauce, cover and allow to simmer for twenty minutes, add two teaspoons of garam masala and stir, sprinkle chopped coriander leaves on top of the curry, turn off the heat , cover , and leave for as long as possible before serving]</td>\n",
       "      <td>great aloo gobi recipe from the film bend it like beckham</td>\n",
       "      <td>[vegetable oil, onion, fresh coriander, green chili, cauliflower, potatoes, diced tomatoes, fresh ginger, fresh garlic, cumin seed, turmeric, salt, garam masala]</td>\n",
       "      <td>13</td>\n",
       "      <td>[This is AWESOME!! Dad and I got together and made this for dinner for ourselves tonight. My kitchen smelt so good while this was stirring in the pot on the stovetop. Since the quantity of ginger and garlic was not mentioned, I used a 1 inch piece of fresh ginger and 4 cloves of fresh garlic(peeled, washed and finely chopped). I like to use all my veggies fresh as a personal preference and I try to avoid canned/tinned food, so I used 6 fresh tomatoes(4 Roma tomatoes and 2 Indian tomatoes). In addition to the green chilli, I also used 1/2 tsp. of red chilli powder. I used  3 1/2 cups of water to cook the tomatoes and cauliflower. As for the potatoes, I boiled the cubes of potatoes in water until they were  tender and just had to be stirred into the rest of the curry. I used 2 tsps. of salt in total for this delicious curry. This was a very tasty curry and we enjoyed it immensely with Tilda Basmati white rice. Very good with plain yogurt on the side:-) Next time, I will use just 2 po...</td>\n",
       "      <td>vegetable oil onion fresh coriander green chili cauliflower potatoes diced tomatoes fresh ginger fresh garlic cumin seed turmeric salt garam masala</td>\n",
       "      <td>curries 60-minutes-or-less time-to-make course main-ingredient cuisine preparation main-dish vegetables asian indian vegetarian dietary cauliflower</td>\n",
       "      <td>vegetable oil onion fresh coriander green chili cauliflower potatoes diced tomatoes fresh ginger fresh garlic cumin seed turmeric salt garam masala curries 60-minutes-or-less time-to-make course main-ingredient cuisine preparation main-dish vegetables asian indian vegetarian dietary cauliflower great aloo gobi recipe from the film bend it like beckham</td>\n",
       "    </tr>\n",
       "  </tbody>\n",
       "</table>\n",
       "</div>"
      ],
      "text/plain": [
       "     index       name     id  minutes  contributor_id   submitted  \\\n",
       "147    147  aloo gobi  84324       60          124813  2004-02-18   \n",
       "\n",
       "                                                                                                                                                                   tags  \\\n",
       "147  [curries, 60-minutes-or-less, time-to-make, course, main-ingredient, cuisine, preparation, main-dish, vegetables, asian, indian, vegetarian, dietary, cauliflower]   \n",
       "\n",
       "                                      nutrition  n_steps  \\\n",
       "147  [215.9, 11.0, 22.0, 13.0, 11.0, 5.0, 11.0]       13   \n",
       "\n",
       "                                                                                                                                                                                                                                                                                                                                                                                                                                                                                                                                                                                                                                                                                                                                                              steps  \\\n",
       "147  [heat vegetable oil in a large saucepan, add the chopped onion and one teaspoon of cumin seeds to the oil, stir together and cook until onions become creamy , golden , and translucent, add chopped coriander stalks , two teaspoons of turmeric , and one teaspoon of salt, add chopped chillis stir tomatoes into onion mixture, add ginger and garlic, mix thoroughly, add potatoes and cauliflower to the sauce plus a few tablespoons of water, ensure that the potatoes and cauliflower are coated with the curry sauce, cover and allow to simmer for twenty minutes, add two teaspoons of garam masala and stir, sprinkle chopped coriander leaves on top of the curry, turn off the heat , cover , and leave for as long as possible before serving]   \n",
       "\n",
       "                                                   description  \\\n",
       "147  great aloo gobi recipe from the film bend it like beckham   \n",
       "\n",
       "                                                                                                                                                           ingredients  \\\n",
       "147  [vegetable oil, onion, fresh coriander, green chili, cauliflower, potatoes, diced tomatoes, fresh ginger, fresh garlic, cumin seed, turmeric, salt, garam masala]   \n",
       "\n",
       "     n_ingredients  \\\n",
       "147             13   \n",
       "\n",
       "                                                                                                                                                                                                                                                                                                                                                                                                                                                                                                                                                                                                                                                                                                                                                                                                                                                                                                                                                                                                                                      review  \\\n",
       "147  [This is AWESOME!! Dad and I got together and made this for dinner for ourselves tonight. My kitchen smelt so good while this was stirring in the pot on the stovetop. Since the quantity of ginger and garlic was not mentioned, I used a 1 inch piece of fresh ginger and 4 cloves of fresh garlic(peeled, washed and finely chopped). I like to use all my veggies fresh as a personal preference and I try to avoid canned/tinned food, so I used 6 fresh tomatoes(4 Roma tomatoes and 2 Indian tomatoes). In addition to the green chilli, I also used 1/2 tsp. of red chilli powder. I used  3 1/2 cups of water to cook the tomatoes and cauliflower. As for the potatoes, I boiled the cubes of potatoes in water until they were  tender and just had to be stirred into the rest of the curry. I used 2 tsps. of salt in total for this delicious curry. This was a very tasty curry and we enjoyed it immensely with Tilda Basmati white rice. Very good with plain yogurt on the side:-) Next time, I will use just 2 po...   \n",
       "\n",
       "                                                                                                                                      ingredients_string  \\\n",
       "147  vegetable oil onion fresh coriander green chili cauliflower potatoes diced tomatoes fresh ginger fresh garlic cumin seed turmeric salt garam masala   \n",
       "\n",
       "                                                                                                                                             tags_string  \\\n",
       "147  curries 60-minutes-or-less time-to-make course main-ingredient cuisine preparation main-dish vegetables asian indian vegetarian dietary cauliflower   \n",
       "\n",
       "                                                                                                                                                                                                                                                                                                                                                                  soup  \n",
       "147  vegetable oil onion fresh coriander green chili cauliflower potatoes diced tomatoes fresh ginger fresh garlic cumin seed turmeric salt garam masala curries 60-minutes-or-less time-to-make course main-ingredient cuisine preparation main-dish vegetables asian indian vegetarian dietary cauliflower great aloo gobi recipe from the film bend it like beckham  "
      ]
     },
     "execution_count": 31,
     "metadata": {},
     "output_type": "execute_result"
    }
   ],
   "source": [
    "#def recipes():\n",
    "if len(new_recipes) >= 1:\n",
    "    print(\"With all characteristics\")\n",
    "    recipe = new_recipes.sample(n=1, random_state=1)\n",
    "    # recommend 3 \n",
    "elif len(only_ingredients) >= 1:\n",
    "    print(\"entro a only ingredients\")\n",
    "    recipe = only_ingredients.sample(n=1, random_state=1) #Select random recipe\n",
    "    #recommend 3 more and specify that it is only based on ingredients\n",
    "else:\n",
    "    print(\"return that no results were returned\")\n",
    "\n",
    "print(type(recipe))\n",
    "recipe"
   ]
  },
  {
   "cell_type": "code",
   "execution_count": 32,
   "metadata": {},
   "outputs": [
    {
     "name": "stdout",
     "output_type": "stream",
     "text": [
      "aloo gobi\n"
     ]
    }
   ],
   "source": [
    "a = get_recommendations(recommend_recipes, recipe[\"name\"].iloc[0], cosine_sim, indices)"
   ]
  },
  {
   "cell_type": "code",
   "execution_count": 33,
   "metadata": {},
   "outputs": [
    {
     "data": {
      "text/plain": [
       "'aloo gobi'"
      ]
     },
     "execution_count": 33,
     "metadata": {},
     "output_type": "execute_result"
    }
   ],
   "source": [
    "recipe[\"name\"].iloc[0]"
   ]
  },
  {
   "cell_type": "code",
   "execution_count": 34,
   "metadata": {},
   "outputs": [
    {
     "data": {
      "text/plain": [
       "150              aloo palak  indian potatoes   spinach\n",
       "6313                                     turkish salad\n",
       "3994    mattar paneer   indian peas with paneer cheese\n",
       "Name: name, dtype: object"
      ]
     },
     "execution_count": 34,
     "metadata": {},
     "output_type": "execute_result"
    }
   ],
   "source": [
    "a"
   ]
  },
  {
   "cell_type": "code",
   "execution_count": 38,
   "metadata": {
    "collapsed": true,
    "jupyter": {
     "outputs_hidden": true
    }
   },
   "outputs": [
    {
     "data": {
      "text/plain": [
       "index                                                                                                                                                                                                                                                                                                                                                                                                                                                                                                                                                                                                                                                                                                                                                                                                                                                                                                                                                                                                                                                     150\n",
       "name                                                                                                                                                                                                                                                                                                                                                                                                                                                                                                                                                                                                                                                                                                                                                                                                                                                                                                                                                                                                                    aloo palak  indian potatoes   spinach\n",
       "id                                                                                                                                                                                                                                                                                                                                                                                                                                                                                                                                                                                                                                                                                                                                                                                                                                                                                                                                                                                                                                                     108787\n",
       "minutes                                                                                                                                                                                                                                                                                                                                                                                                                                                                                                                                                                                                                                                                                                                                                                                                                                                                                                                                                                                                                                                    30\n",
       "contributor_id                                                                                                                                                                                                                                                                                                                                                                                                                                                                                                                                                                                                                                                                                                                                                                                                                                                                                                                                                                                                                                          71324\n",
       "submitted                                                                                                                                                                                                                                                                                                                                                                                                                                                                                                                                                                                                                                                                                                                                                                                                                                                                                                                                                                                                                                          2005-01-19\n",
       "tags                                                                                                                                                                                                                                                                                                                                                                                                                                                                                                                                                                                                                                                                                                                                                                                           [30-minutes-or-less, time-to-make, course, main-ingredient, cuisine, preparation, occasion, for-1-or-2, main-dish, side-dishes, potatoes, vegetables, asian, indian, vegetarian, dietary, spicy, inexpensive, greens, spinach, taste-mood, number-of-servings]\n",
       "nutrition                                                                                                                                                                                                                                                                                                                                                                                                                                                                                                                                                                                                                                                                                                                                                                                                                                                                                                                                                                                                          [404.4, 41.0, 29.0, 5.0, 17.0, 80.0, 12.0]\n",
       "n_steps                                                                                                                                                                                                                                                                                                                                                                                                                                                                                                                                                                                                                                                                                                                                                                                                                                                                                                                                                                                                                                                     7\n",
       "steps                                                                                                                                                                                                                                                                                                                                                                                                                                                                 [in a pan cook the spinach with garlic , ginger , onions and the green chilies for about 5-10 minutes, remove from the pan and blend to a fine puree and keep aside, in the meantime boil the potatoes with salt and turmeric until done , apprximately 10 minutes and set aside when done, heat ghee in a pan , fry cumin seeds along with spinach-onion paste and simmer for a few minutes, add the cooked potatoes , garam masala , coriander and cumin powder and a little water if needed, simmer for few minutes till the potatoes absorb the flavor, add fresh cream if desired]\n",
       "description                                                                                                                                                                                                                                                                                                                                                                                                                                                                                                                                                                                                                                                                                                                                                                                                      i got this aloo palak recipe from daawat.com, but have adjusted it slightly to my liking. it will serve two as a main course when served with naan bread or rice, or four as a side dish. if you like it a little milder deseed the chilies.\n",
       "ingredients                                                                                                                                                                                                                                                                                                                                                                                                                                                                                                                                                                                                                                                                                                                                                                                                                                                                                [spinach, garlic cloves, fresh ginger, onions, green chili, potatoes, turmeric, ghee, cumin seed, garam masala, ground coriander, ground cumin, fresh cream, salt]\n",
       "n_ingredients                                                                                                                                                                                                                                                                                                                                                                                                                                                                                                                                                                                                                                                                                                                                                                                                                                                                                                                                                                                                                                              14\n",
       "review                [this was a very nice variation on the usual paneer palak that i make using pretty much this method. i followed your recipe exactly, and did include the cream (but of course!:)) thanks for posting - it didn't occur to me to put together something like this till i saw your recipe, and being snowed in and unable to go out to replenish my veggie store, it was a very good recipe to make do with whatever i had at home., This is a wonderful recipe. I made this for dinner tonight. Since my mom is on a diet where she is not allowed to have potatoes, I substituted those with 250 gms. of cottage cheese {paneer}, cut into cubes. I had just 1/2 tsp. of garam masala powder on hand{unbelievable but true!!}, so I added in 1 tsp. of chat masala powder as well to the recipe. While cooking this, I used 2 tbsps. of oil instead of 4. I did not use the cream in this. This tasted extremely yummy and nice. It was just too good for words and yet not heavily laden with fat. We had this with rotis and rice....\n",
       "ingredients_string                                                                                                                                                                                                                                                                                                                                                                                                                                                                                                                                                                                                                                                                                                                                                                                                                                                                                        spinach garlic cloves fresh ginger onions green chili potatoes turmeric ghee cumin seed garam masala ground coriander ground cumin fresh cream salt\n",
       "tags_string                                                                                                                                                                                                                                                                                                                                                                                                                                                                                                                                                                                                                                                                                                                                                                                                           30-minutes-or-less time-to-make course main-ingredient cuisine preparation occasion for-1-or-2 main-dish side-dishes potatoes vegetables asian indian vegetarian dietary spicy inexpensive greens spinach taste-mood number-of-servings\n",
       "soup                                                                                                                                                                                                                                                                                                                                                                                                                 spinach garlic cloves fresh ginger onions green chili potatoes turmeric ghee cumin seed garam masala ground coriander ground cumin fresh cream salt 30-minutes-or-less time-to-make course main-ingredient cuisine preparation occasion for-1-or-2 main-dish side-dishes potatoes vegetables asian indian vegetarian dietary spicy inexpensive greens spinach taste-mood number-of-servings i got this aloo palak recipe from daawat.com, but have adjusted it slightly to my liking. it will serve two as a main course when served with naan bread or rice, or four as a side dish. if you like it a little milder deseed the chilies.\n",
       "Name: 150, dtype: object"
      ]
     },
     "execution_count": 38,
     "metadata": {},
     "output_type": "execute_result"
    }
   ],
   "source": [
    "recommend_recipes.iloc[150]"
   ]
  },
  {
   "cell_type": "markdown",
   "metadata": {},
   "source": [
    "#### Search for tags in recipes"
   ]
  },
  {
   "cell_type": "markdown",
   "metadata": {},
   "source": [
    "#### Test"
   ]
  },
  {
   "cell_type": "markdown",
   "metadata": {},
   "source": [
    "##### Test-1"
   ]
  },
  {
   "cell_type": "code",
   "execution_count": 18,
   "metadata": {},
   "outputs": [
    {
     "ename": "NameError",
     "evalue": "name 'indices' is not defined",
     "output_type": "error",
     "traceback": [
      "\u001b[0;31m---------------------------------------------------------------------------\u001b[0m",
      "\u001b[0;31mNameError\u001b[0m                                 Traceback (most recent call last)",
      "\u001b[0;32m<ipython-input-18-cc0399305f9c>\u001b[0m in \u001b[0;36m<module>\u001b[0;34m\u001b[0m\n\u001b[0;32m----> 1\u001b[0;31m \u001b[0mget_recommendations\u001b[0m\u001b[0;34m(\u001b[0m\u001b[0;34m'stroganoff'\u001b[0m\u001b[0;34m,\u001b[0m \u001b[0mcosine_sim\u001b[0m\u001b[0;34m)\u001b[0m\u001b[0;34m\u001b[0m\u001b[0;34m\u001b[0m\u001b[0m\n\u001b[0m",
      "\u001b[0;32m~/Documents/dataScience/Lighthouse/ds_bootcamp/lighthouse-projects/Recipe_Recommender/src/modules/recommender.py\u001b[0m in \u001b[0;36mget_recommendations\u001b[0;34m(name, cosine_sim)\u001b[0m\n\u001b[1;32m      5\u001b[0m \u001b[0;32mdef\u001b[0m \u001b[0mget_recommendations\u001b[0m\u001b[0;34m(\u001b[0m\u001b[0mname\u001b[0m\u001b[0;34m,\u001b[0m \u001b[0mcosine_sim\u001b[0m\u001b[0;34m)\u001b[0m\u001b[0;34m:\u001b[0m\u001b[0;34m\u001b[0m\u001b[0;34m\u001b[0m\u001b[0m\n\u001b[1;32m      6\u001b[0m     \u001b[0;31m# Get the index of the recipe\u001b[0m\u001b[0;34m\u001b[0m\u001b[0;34m\u001b[0m\u001b[0;34m\u001b[0m\u001b[0m\n\u001b[0;32m----> 7\u001b[0;31m     \u001b[0midx\u001b[0m \u001b[0;34m=\u001b[0m \u001b[0mindices\u001b[0m\u001b[0;34m[\u001b[0m\u001b[0mname\u001b[0m\u001b[0;34m]\u001b[0m\u001b[0;34m\u001b[0m\u001b[0;34m\u001b[0m\u001b[0m\n\u001b[0m\u001b[1;32m      8\u001b[0m \u001b[0;34m\u001b[0m\u001b[0m\n\u001b[1;32m      9\u001b[0m     \u001b[0;31m# Get the pairwsie similarity scores of all recipes with the current recipe\u001b[0m\u001b[0;34m\u001b[0m\u001b[0;34m\u001b[0m\u001b[0;34m\u001b[0m\u001b[0m\n",
      "\u001b[0;31mNameError\u001b[0m: name 'indices' is not defined"
     ]
    }
   ],
   "source": [
    "get_recommendations('stroganoff', cosine_sim, indices)"
   ]
  },
  {
   "cell_type": "code",
   "execution_count": 91,
   "metadata": {
    "collapsed": true,
    "jupyter": {
     "outputs_hidden": true
    }
   },
   "outputs": [
    {
     "data": {
      "text/html": [
       "<div>\n",
       "<style scoped>\n",
       "    .dataframe tbody tr th:only-of-type {\n",
       "        vertical-align: middle;\n",
       "    }\n",
       "\n",
       "    .dataframe tbody tr th {\n",
       "        vertical-align: top;\n",
       "    }\n",
       "\n",
       "    .dataframe thead th {\n",
       "        text-align: right;\n",
       "    }\n",
       "</style>\n",
       "<table border=\"1\" class=\"dataframe\">\n",
       "  <thead>\n",
       "    <tr style=\"text-align: right;\">\n",
       "      <th></th>\n",
       "      <th>level_0</th>\n",
       "      <th>index</th>\n",
       "      <th>name</th>\n",
       "      <th>id</th>\n",
       "      <th>minutes</th>\n",
       "      <th>contributor_id</th>\n",
       "      <th>submitted</th>\n",
       "      <th>tags</th>\n",
       "      <th>nutrition</th>\n",
       "      <th>n_steps</th>\n",
       "      <th>steps</th>\n",
       "      <th>description</th>\n",
       "      <th>ingredients</th>\n",
       "      <th>n_ingredients</th>\n",
       "      <th>review</th>\n",
       "      <th>ingredients_string</th>\n",
       "      <th>tags_string</th>\n",
       "      <th>soup</th>\n",
       "    </tr>\n",
       "  </thead>\n",
       "  <tbody>\n",
       "    <tr>\n",
       "      <th>5840</th>\n",
       "      <td>5840</td>\n",
       "      <td>5840</td>\n",
       "      <td>stroganoff</td>\n",
       "      <td>13906</td>\n",
       "      <td>25</td>\n",
       "      <td>23073</td>\n",
       "      <td>2001-11-07</td>\n",
       "      <td>[30-minutes-or-less, time-to-make, course, mai...</td>\n",
       "      <td>[430.5, 50.0, 15.0, 30.0, 47.0, 71.0, 3.0]</td>\n",
       "      <td>7</td>\n",
       "      <td>[brown beef in large skillet, add onions and c...</td>\n",
       "      <td>this recipe was used by both my mother and my ...</td>\n",
       "      <td>[ground beef, onion, garlic powder, salt, pepp...</td>\n",
       "      <td>8</td>\n",
       "      <td>[Really tasty and filling. My hubby is looking...</td>\n",
       "      <td>ground beef onion garlic powder salt pepper co...</td>\n",
       "      <td>30-minutes-or-less time-to-make course main-in...</td>\n",
       "      <td>ground beef onion garlic powder salt pepper co...</td>\n",
       "    </tr>\n",
       "  </tbody>\n",
       "</table>\n",
       "</div>"
      ],
      "text/plain": [
       "      level_0  index        name     id  minutes  contributor_id   submitted  \\\n",
       "5840     5840   5840  stroganoff  13906       25           23073  2001-11-07   \n",
       "\n",
       "                                                   tags  \\\n",
       "5840  [30-minutes-or-less, time-to-make, course, mai...   \n",
       "\n",
       "                                       nutrition  n_steps  \\\n",
       "5840  [430.5, 50.0, 15.0, 30.0, 47.0, 71.0, 3.0]        7   \n",
       "\n",
       "                                                  steps  \\\n",
       "5840  [brown beef in large skillet, add onions and c...   \n",
       "\n",
       "                                            description  \\\n",
       "5840  this recipe was used by both my mother and my ...   \n",
       "\n",
       "                                            ingredients  n_ingredients  \\\n",
       "5840  [ground beef, onion, garlic powder, salt, pepp...              8   \n",
       "\n",
       "                                                 review  \\\n",
       "5840  [Really tasty and filling. My hubby is looking...   \n",
       "\n",
       "                                     ingredients_string  \\\n",
       "5840  ground beef onion garlic powder salt pepper co...   \n",
       "\n",
       "                                            tags_string  \\\n",
       "5840  30-minutes-or-less time-to-make course main-in...   \n",
       "\n",
       "                                                   soup  \n",
       "5840  ground beef onion garlic powder salt pepper co...  "
      ]
     },
     "execution_count": 91,
     "metadata": {},
     "output_type": "execute_result"
    }
   ],
   "source": [
    "recommend_recipes[recommend_recipes['name']== 'stroganoff']"
   ]
  },
  {
   "cell_type": "markdown",
   "metadata": {},
   "source": [
    "##### Test-2"
   ]
  },
  {
   "cell_type": "code",
   "execution_count": 87,
   "metadata": {},
   "outputs": [],
   "source": [
    "search_name = recommend_recipes[recommend_recipes['index']==7][\"name\"].iloc[0]"
   ]
  },
  {
   "cell_type": "code",
   "execution_count": 88,
   "metadata": {},
   "outputs": [
    {
     "data": {
      "text/plain": [
       "'the best  banana bread  or muffins'"
      ]
     },
     "execution_count": 88,
     "metadata": {},
     "output_type": "execute_result"
    }
   ],
   "source": [
    "search_name"
   ]
  },
  {
   "cell_type": "code",
   "execution_count": 192,
   "metadata": {},
   "outputs": [
    {
     "data": {
      "text/html": [
       "<div>\n",
       "<style scoped>\n",
       "    .dataframe tbody tr th:only-of-type {\n",
       "        vertical-align: middle;\n",
       "    }\n",
       "\n",
       "    .dataframe tbody tr th {\n",
       "        vertical-align: top;\n",
       "    }\n",
       "\n",
       "    .dataframe thead th {\n",
       "        text-align: right;\n",
       "    }\n",
       "</style>\n",
       "<table border=\"1\" class=\"dataframe\">\n",
       "  <thead>\n",
       "    <tr style=\"text-align: right;\">\n",
       "      <th></th>\n",
       "      <th>index</th>\n",
       "      <th>name</th>\n",
       "      <th>id</th>\n",
       "      <th>minutes</th>\n",
       "      <th>contributor_id</th>\n",
       "      <th>submitted</th>\n",
       "      <th>tags</th>\n",
       "      <th>nutrition</th>\n",
       "      <th>n_steps</th>\n",
       "      <th>steps</th>\n",
       "      <th>description</th>\n",
       "      <th>ingredients</th>\n",
       "      <th>n_ingredients</th>\n",
       "      <th>review</th>\n",
       "      <th>ingredients_string</th>\n",
       "      <th>tags_string</th>\n",
       "      <th>soup</th>\n",
       "    </tr>\n",
       "  </thead>\n",
       "  <tbody>\n",
       "    <tr>\n",
       "      <th>7</th>\n",
       "      <td>7</td>\n",
       "      <td>the best  banana bread  or muffins</td>\n",
       "      <td>39363</td>\n",
       "      <td>70</td>\n",
       "      <td>51579</td>\n",
       "      <td>2002-09-03</td>\n",
       "      <td>[weeknight, time-to-make, course, main-ingredi...</td>\n",
       "      <td>[175.7, 9.0, 65.0, 9.0, 5.0, 18.0, 9.0]</td>\n",
       "      <td>10</td>\n",
       "      <td>[cream together butter and sugar, blend in egg...</td>\n",
       "      <td>okay, another banana bread recipe...but maybe ...</td>\n",
       "      <td>[butter, sugar, eggs, bananas, water, baking s...</td>\n",
       "      <td>11</td>\n",
       "      <td>[This is an excellent recipe!!  Everyone loved...</td>\n",
       "      <td>butter sugar eggs bananas water baking soda sa...</td>\n",
       "      <td>weeknight time-to-make course main-ingredient ...</td>\n",
       "      <td>butter sugar eggs bananas water baking soda sa...</td>\n",
       "    </tr>\n",
       "  </tbody>\n",
       "</table>\n",
       "</div>"
      ],
      "text/plain": [
       "   index                                name     id  minutes  contributor_id  \\\n",
       "7      7  the best  banana bread  or muffins  39363       70           51579   \n",
       "\n",
       "    submitted                                               tags  \\\n",
       "7  2002-09-03  [weeknight, time-to-make, course, main-ingredi...   \n",
       "\n",
       "                                 nutrition  n_steps  \\\n",
       "7  [175.7, 9.0, 65.0, 9.0, 5.0, 18.0, 9.0]       10   \n",
       "\n",
       "                                               steps  \\\n",
       "7  [cream together butter and sugar, blend in egg...   \n",
       "\n",
       "                                         description  \\\n",
       "7  okay, another banana bread recipe...but maybe ...   \n",
       "\n",
       "                                         ingredients  n_ingredients  \\\n",
       "7  [butter, sugar, eggs, bananas, water, baking s...             11   \n",
       "\n",
       "                                              review  \\\n",
       "7  [This is an excellent recipe!!  Everyone loved...   \n",
       "\n",
       "                                  ingredients_string  \\\n",
       "7  butter sugar eggs bananas water baking soda sa...   \n",
       "\n",
       "                                         tags_string  \\\n",
       "7  weeknight time-to-make course main-ingredient ...   \n",
       "\n",
       "                                                soup  \n",
       "7  butter sugar eggs bananas water baking soda sa...  "
      ]
     },
     "execution_count": 192,
     "metadata": {},
     "output_type": "execute_result"
    }
   ],
   "source": [
    "recommend_recipes[recommend_recipes['name']== search_name]"
   ]
  },
  {
   "cell_type": "code",
   "execution_count": 89,
   "metadata": {},
   "outputs": [
    {
     "data": {
      "text/plain": [
       "543                                    banana streusel muffins\n",
       "2175                           double chocolate banana muffins\n",
       "6068                                     the best banana bread\n",
       "1468          chocolate chocolate chip sour cream banana bread\n",
       "6564                          whole wheat honey banana muffins\n",
       "1890    crispy cinnamon streusel banana nut cream cheese bread\n",
       "1754                              cranberry banana oat muffins\n",
       "530                                      banana crunch muffins\n",
       "2236                                       easy banana muffins\n",
       "493                                            baklava muffins\n",
       "Name: name, dtype: object"
      ]
     },
     "execution_count": 89,
     "metadata": {},
     "output_type": "execute_result"
    }
   ],
   "source": [
    "get_recommendations(search_name, cosine_sim, indices)"
   ]
  },
  {
   "cell_type": "markdown",
   "metadata": {},
   "source": [
    "##### Test-3"
   ]
  },
  {
   "cell_type": "code",
   "execution_count": 194,
   "metadata": {},
   "outputs": [],
   "source": [
    "search_name = recommend_recipes[recommend_recipes['index']==34][\"name\"].iloc[0]"
   ]
  },
  {
   "cell_type": "code",
   "execution_count": 195,
   "metadata": {},
   "outputs": [
    {
     "data": {
      "text/plain": [
       "'get up   go  bars'"
      ]
     },
     "execution_count": 195,
     "metadata": {},
     "output_type": "execute_result"
    }
   ],
   "source": [
    "search_name"
   ]
  },
  {
   "cell_type": "code",
   "execution_count": 196,
   "metadata": {},
   "outputs": [],
   "source": [
    "search_ingredients = recommend_recipes[recommend_recipes['name']== search_name]['ingredients'].iloc[0]"
   ]
  },
  {
   "cell_type": "code",
   "execution_count": 197,
   "metadata": {},
   "outputs": [
    {
     "data": {
      "text/plain": [
       "['sugar',\n",
       " 'light corn syrup',\n",
       " 'peanut butter',\n",
       " 'grape-nuts cereal',\n",
       " 'rolled oats',\n",
       " 'sliced almonds',\n",
       " 'dried cranberries']"
      ]
     },
     "execution_count": 197,
     "metadata": {},
     "output_type": "execute_result"
    }
   ],
   "source": [
    "search_ingredients"
   ]
  },
  {
   "cell_type": "code",
   "execution_count": 198,
   "metadata": {},
   "outputs": [
    {
     "data": {
      "text/plain": [
       "4690                    peanut butter marshmallow squares\n",
       "4330                                 no bake granola bars\n",
       "1228                                   chewy granola bars\n",
       "2668                                 funky frito fruckies\n",
       "4747                        perfect peanut butter cookies\n",
       "2846                 grape nuts oatmeal cranberry cookies\n",
       "6424    vegan peanut butter chocolate chip oatmeal coo...\n",
       "4206        mud cookies   aka   chocolate no bake cookies\n",
       "4329                                no bake fudge cookies\n",
       "3971             mars bars rice krispies squares  no bake\n",
       "Name: name, dtype: object"
      ]
     },
     "execution_count": 198,
     "metadata": {},
     "output_type": "execute_result"
    }
   ],
   "source": [
    "get_recommendations(search_name, cosine_sim, indices)"
   ]
  },
  {
   "cell_type": "markdown",
   "metadata": {},
   "source": [
    "##### Test-4"
   ]
  },
  {
   "cell_type": "code",
   "execution_count": 199,
   "metadata": {},
   "outputs": [],
   "source": [
    "search_name = recommend_recipes[recommend_recipes['index']==3644][\"name\"].iloc[0]"
   ]
  },
  {
   "cell_type": "code",
   "execution_count": 200,
   "metadata": {},
   "outputs": [
    {
     "data": {
      "text/plain": [
       "'kiwi quick bread'"
      ]
     },
     "execution_count": 200,
     "metadata": {},
     "output_type": "execute_result"
    }
   ],
   "source": [
    "search_name"
   ]
  },
  {
   "cell_type": "code",
   "execution_count": 201,
   "metadata": {},
   "outputs": [],
   "source": [
    "search_ingredients = recommend_recipes[recommend_recipes['name']== search_name]['ingredients'].iloc[0]"
   ]
  },
  {
   "cell_type": "code",
   "execution_count": 202,
   "metadata": {},
   "outputs": [
    {
     "data": {
      "text/plain": [
       "['all-purpose flour',\n",
       " 'baking powder',\n",
       " 'baking soda',\n",
       " 'salt',\n",
       " 'butter',\n",
       " 'sugar',\n",
       " 'eggs',\n",
       " 'kiwi fruit']"
      ]
     },
     "execution_count": 202,
     "metadata": {},
     "output_type": "execute_result"
    }
   ],
   "source": [
    "search_ingredients"
   ]
  },
  {
   "cell_type": "code",
   "execution_count": 203,
   "metadata": {},
   "outputs": [
    {
     "data": {
      "text/plain": [
       "1890    crispy cinnamon streusel banana nut cream chee...\n",
       "3867                                 low fat banana bread\n",
       "2175                      double chocolate banana muffins\n",
       "543                               banana streusel muffins\n",
       "2614                  fresh plum or peach cobbler muffins\n",
       "4786                     pineapple and sour cream muffins\n",
       "7                      the best  banana bread  or muffins\n",
       "675                                     best banana bread\n",
       "4131                            moist banana walnut bread\n",
       "837                                blueberry pudding loaf\n",
       "Name: name, dtype: object"
      ]
     },
     "execution_count": 203,
     "metadata": {},
     "output_type": "execute_result"
    }
   ],
   "source": [
    "get_recommendations(search_name, cosine_sim2, indices)"
   ]
  },
  {
   "cell_type": "markdown",
   "metadata": {},
   "source": [
    "##### Test-5"
   ]
  },
  {
   "cell_type": "code",
   "execution_count": 212,
   "metadata": {},
   "outputs": [],
   "source": [
    "search_name = recommend_recipes[recommend_recipes['index']==6389][\"name\"].iloc[0]"
   ]
  },
  {
   "cell_type": "code",
   "execution_count": 213,
   "metadata": {},
   "outputs": [
    {
     "data": {
      "text/plain": [
       "'v s grilled jerk pork tenderloin and pineapple mango kiwi salsa'"
      ]
     },
     "execution_count": 213,
     "metadata": {},
     "output_type": "execute_result"
    }
   ],
   "source": [
    "search_name"
   ]
  },
  {
   "cell_type": "code",
   "execution_count": 214,
   "metadata": {},
   "outputs": [],
   "source": [
    "search_ingredients = recommend_recipes[recommend_recipes['name']== search_name]['ingredients'].iloc[0]"
   ]
  },
  {
   "cell_type": "code",
   "execution_count": 215,
   "metadata": {},
   "outputs": [
    {
     "data": {
      "text/plain": [
       "['pork tenderloin',\n",
       " 'onion',\n",
       " 'scallion',\n",
       " 'fresh thyme leave',\n",
       " 'garlic cloves',\n",
       " 'fresh orange juice',\n",
       " 'fresh lime juice',\n",
       " 'scotch bonnet peppers',\n",
       " 'fresh ginger',\n",
       " 'ground coriander',\n",
       " 'fresh ground black pepper',\n",
       " 'ground allspice',\n",
       " 'cumin',\n",
       " 'salt',\n",
       " 'ground nutmeg',\n",
       " 'ground cinnamon',\n",
       " 'fresh pineapple',\n",
       " 'fresh mango',\n",
       " 'kiwi',\n",
       " 'purple onion',\n",
       " 'fresh cilantro',\n",
       " 'lime juice',\n",
       " 'rum',\n",
       " 'jalapenos']"
      ]
     },
     "execution_count": 215,
     "metadata": {},
     "output_type": "execute_result"
    }
   ],
   "source": [
    "search_ingredients"
   ]
  },
  {
   "cell_type": "code",
   "execution_count": 11,
   "metadata": {},
   "outputs": [
    {
     "ename": "NameError",
     "evalue": "name 'get_recommendations' is not defined",
     "output_type": "error",
     "traceback": [
      "\u001b[0;31m---------------------------------------------------------------------------\u001b[0m",
      "\u001b[0;31mNameError\u001b[0m                                 Traceback (most recent call last)",
      "\u001b[0;32m<ipython-input-11-65b337d00242>\u001b[0m in \u001b[0;36m<module>\u001b[0;34m\u001b[0m\n\u001b[0;32m----> 1\u001b[0;31m \u001b[0mget_recommendations\u001b[0m\u001b[0;34m(\u001b[0m\u001b[0msearch_name\u001b[0m\u001b[0;34m,\u001b[0m \u001b[0mcosine_sim2\u001b[0m\u001b[0;34m)\u001b[0m\u001b[0;34m\u001b[0m\u001b[0;34m\u001b[0m\u001b[0m\n\u001b[0m",
      "\u001b[0;31mNameError\u001b[0m: name 'get_recommendations' is not defined"
     ]
    }
   ],
   "source": [
    "get_recommendations(search_name, cosine_sim, indices)"
   ]
  },
  {
   "cell_type": "code",
   "execution_count": null,
   "metadata": {},
   "outputs": [],
   "source": []
  }
 ],
 "metadata": {
  "kernelspec": {
   "display_name": "Python 3",
   "language": "python",
   "name": "python3"
  },
  "language_info": {
   "codemirror_mode": {
    "name": "ipython",
    "version": 3
   },
   "file_extension": ".py",
   "mimetype": "text/x-python",
   "name": "python",
   "nbconvert_exporter": "python",
   "pygments_lexer": "ipython3",
   "version": "3.8.5"
  }
 },
 "nbformat": 4,
 "nbformat_minor": 4
}
